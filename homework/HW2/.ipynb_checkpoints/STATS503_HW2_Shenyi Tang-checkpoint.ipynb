{
 "cells": [
  {
   "cell_type": "markdown",
   "id": "91de045e-f6b3-4de3-8623-543ff4ef5688",
   "metadata": {},
   "source": [
    "#### Question 1"
   ]
  },
  {
   "cell_type": "markdown",
   "id": "bf226c09-6bbe-4de3-b5fb-f32e69dd8735",
   "metadata": {},
   "source": [
    "**(a) Compute the Squared Euclidean distance between** $x^{(te)}$ **and each observation in** $\\mathcal{D}$. **Report the squared distances. Do not use a computer to solve the problem.**"
   ]
  },
  {
   "cell_type": "markdown",
   "id": "0269069e-1077-464d-b0cd-6561addbb214",
   "metadata": {},
   "source": [
    "- Squared with Obs.1: $X_{1}^{2}+X_{2}^{2}+X_{3}^{2}=9$\n",
    "- Squared with Obs.2: $X_{1}^{2}+X_{2}^{2}+X_{3}^{2}=4$\n",
    "- Squared with Obs.3: $X_{1}^{2}+X_{2}^{2}+X_{3}^{2}=10$\n",
    "- Squared with Obs.4: $X_{1}^{2}+X_{2}^{2}+X_{3}^{2}=5$\n",
    "- Squared with Obs.5: $X_{1}^{2}+X_{2}^{2}+X_{3}^{2}=2$\n",
    "- Squared with Obs.6: $X_{1}^{2}+X_{2}^{2}+X_{3}^{2}=6$"
   ]
  },
  {
   "cell_type": "markdown",
   "id": "03fb24c9-b64d-41d0-8a77-d29849df7b7e",
   "metadata": {},
   "source": [
    "**(b) What is** $\\hat{y}^{(3)}(x^{(te)},\\mathcal{D})$? **Explain your reasoning.**"
   ]
  },
  {
   "cell_type": "markdown",
   "id": "29d5ae5f-64de-4968-ae1c-35b27dd23452",
   "metadata": {},
   "source": [
    "The 3 nearest observations for $x^{(te)}$ are observations points: 5, 2, 4, whose colors are respectively red, green and green.\n",
    "\n",
    "Thus, $\\hat{y}^{(3)}(x^{(te)},\\mathcal{D})$ is green."
   ]
  },
  {
   "cell_type": "markdown",
   "id": "b7f08016-7794-4e2c-afee-d66f93d8bf95",
   "metadata": {},
   "source": [
    "**(c) What is** $\\hat{y}^{(1)}(x^{(te)},\\mathcal{D})$? **Explain your reasoning.**"
   ]
  },
  {
   "cell_type": "markdown",
   "id": "64fa709e-6a77-4a9c-a66d-272bd90a841a",
   "metadata": {},
   "source": [
    "The nearest observations for $x^{(te)}$ are observations points: 5, whose color is green.\n",
    "\n",
    "Thus, $\\hat{y}^{(1)}(x^{(te)},\\mathcal{D})$ is green."
   ]
  },
  {
   "cell_type": "markdown",
   "id": "72a67220-6ae2-41a1-a33b-5b4d0e487400",
   "metadata": {},
   "source": [
    "**(d) Consider 2 new datasets** $\\mathcal{D_1}$ **and** $\\mathcal{D_2}$, **each with 6 obsevations, sampled by the same data-generating process that** $\\mathcal{D}$ **was.**\n",
    "\n",
    "**True or false: for a typical data-generating process,** \n",
    "$$Pr(\\hat{y}^{(3)}(x^{(te)},\\mathcal{D_1})=\\hat{y}^{(3)}(x^{(te)},\\mathcal{D_2}))>Pr(\\hat{y}^{(1)}(x^{(te)},\\mathcal{D_1})=\\hat{y}^{(1)}(x^{(te)},\\mathcal{D_2}))$$"
   ]
  },
  {
   "cell_type": "markdown",
   "id": "f1f8977c-3d1a-47d0-8bcc-ae079319083c",
   "metadata": {},
   "source": [
    "True.\n",
    "\n",
    "There is more randomness when only using $K=1$, as it only depends on the nearest point. Increasing the $K$ increases the robustness."
   ]
  },
  {
   "cell_type": "markdown",
   "id": "6b5ccf6e-bc80-4b84-ab00-9cd908b5ddd7",
   "metadata": {},
   "source": [
    "#### Question 2"
   ]
  },
  {
   "cell_type": "markdown",
   "id": "95458afd-addc-430f-a611-e1704b992db6",
   "metadata": {},
   "source": [
    "**(a) True or false: typically, predictive error on training data will be lower with more flexible methods**\n",
    "- True"
   ]
  },
  {
   "cell_type": "markdown",
   "id": "7c59e914-23bf-478d-a3d5-7e37baa65121",
   "metadata": {},
   "source": [
    "**(b) Describe how predictive error on testing data changes as you use more and more flexible methods (in typical case).**\n",
    "- The predictve error will decrease at first then go upwards as there will be overfitting brought by more and more flexible methods."
   ]
  },
  {
   "cell_type": "markdown",
   "id": "52a8ef23-9207-4af2-8d6f-bd178e8e9cd0",
   "metadata": {},
   "source": [
    "#### Question 3"
   ]
  },
  {
   "cell_type": "markdown",
   "id": "dbb76b0f-3372-41b9-929b-e3dc2c33e7dd",
   "metadata": {},
   "source": [
    "**(a) Calculate** $f(0.5)$."
   ]
  },
  {
   "cell_type": "markdown",
   "id": "3d09c70e-2258-4d32-b8d8-ed3e0daaa261",
   "metadata": {},
   "source": [
    "$\\text{When}\\ x=0.5$,\n",
    "$$\n",
    "\\begin{align*}\n",
    "[Y|X=0.5] &\\sim \\text{Uniform}(0.5+\\cos\\pi-0.1, 0.5+\\cos\\pi+0.1) \\\\\n",
    "[Y|X=0.5] &\\sim \\text{Uniform}(-0.6, -0.4)\n",
    "\\end{align*}\n",
    "$$\n",
    "$\\therefore \\mathbb{E}[Y|X=x]=\\mathbb{E}[Y|X=0.5]=-0.5$\n"
   ]
  },
  {
   "cell_type": "markdown",
   "id": "657d120c-e9ef-4adf-85c8-bea78e469890",
   "metadata": {},
   "source": [
    "**(b) Calculate** $\\text{var}(Y|X=0.5)$"
   ]
  },
  {
   "cell_type": "markdown",
   "id": "65770bf4-d164-40c1-9adf-7ec5ac6efcb4",
   "metadata": {},
   "source": [
    "According to Question 3 Part (a), $[Y|X=0.5]$ follows $\\text{Uniform}(-0.6,-0.4)$,\n",
    "\n",
    "$\\therefore\\ \\text{var}(Y|X=0.5)=\\cfrac{1}{300}$"
   ]
  },
  {
   "cell_type": "markdown",
   "id": "84434653-affd-4aa4-a58c-04dcf5e6364e",
   "metadata": {},
   "source": [
    "**(c) Use `numpy`'s random number generator to construct a simulated dataset of 100 samples drawn from the data-generating process above.**\n",
    "\n",
    "- **there should be one predictor feature** $X$ **and one response** $Y$\n",
    "- **X should be drawn uniformly from the interval [0,1]**\n",
    "- **Y should be drawn from** $\\text{Uniform}[X+\\cos(2\\pi X)-0.1,X+\\cos(2\\pi X)+0.1]$\n",
    "\n",
    "**(i) The final dataset** $\\mathcal{D}$ **should be stored as a data frame with 2 columns and 100 rows.**\n",
    "\n",
    "**(ii) Use `LinearRegression` to estimate the regression function using ordinary lease squares on this dataset**\n",
    "\n",
    "**(iii) Construct a scatter plot of X and Y for your simulated dataset. On the same axes, plot the regression function of** $\\hat{f}$ **fitted by the ordinary lease squares. Also on the same axes, plot the true regression function** $f$. **As always, include horizontal axis label, vertical axis label, and a title. In this case, you should also include a legend**\n",
    "\n",
    "**(iv) Report the value of** $\\hat{f}(0.5, \\mathcal{D})$\n"
   ]
  },
  {
   "cell_type": "markdown",
   "id": "c576ccf1-569e-43df-9a73-a03b1d71038c",
   "metadata": {},
   "source": [
    "True regression function:\n",
    "$$\n",
    "\\begin{align*}\n",
    "\\text{f}(x) &=\\mathbb{E}[Y|X=x] \\\\\n",
    "&=(X+\\cos{2\\pi X}-0.1+X+\\cos{2\\pi X}+0.1)/2 \\\\\n",
    "&=X+\\cos{2\\pi X}\n",
    "\\end{align*}\n",
    "$$"
   ]
  },
  {
   "cell_type": "code",
   "execution_count": 7,
   "id": "1852cda3-1141-44e5-a228-fe2420d2f90b",
   "metadata": {},
   "outputs": [],
   "source": [
    "import numpy as np\n",
    "import pandas as pd\n",
    "from sklearn.linear_model import LinearRegression\n",
    "import matplotlib.pyplot as plt\n",
    "np.random.seed(503)"
   ]
  },
  {
   "cell_type": "code",
   "execution_count": 8,
   "id": "c5a4d951-2c40-4331-bf98-086890f03b61",
   "metadata": {},
   "outputs": [
    {
     "data": {
      "text/html": [
       "<div>\n",
       "<style scoped>\n",
       "    .dataframe tbody tr th:only-of-type {\n",
       "        vertical-align: middle;\n",
       "    }\n",
       "\n",
       "    .dataframe tbody tr th {\n",
       "        vertical-align: top;\n",
       "    }\n",
       "\n",
       "    .dataframe thead th {\n",
       "        text-align: right;\n",
       "    }\n",
       "</style>\n",
       "<table border=\"1\" class=\"dataframe\">\n",
       "  <thead>\n",
       "    <tr style=\"text-align: right;\">\n",
       "      <th></th>\n",
       "      <th>X</th>\n",
       "      <th>Y</th>\n",
       "    </tr>\n",
       "  </thead>\n",
       "  <tbody>\n",
       "    <tr>\n",
       "      <th>0</th>\n",
       "      <td>0.020819</td>\n",
       "      <td>0.922770</td>\n",
       "    </tr>\n",
       "    <tr>\n",
       "      <th>1</th>\n",
       "      <td>0.463678</td>\n",
       "      <td>-0.542535</td>\n",
       "    </tr>\n",
       "    <tr>\n",
       "      <th>2</th>\n",
       "      <td>0.603478</td>\n",
       "      <td>-0.223665</td>\n",
       "    </tr>\n",
       "    <tr>\n",
       "      <th>3</th>\n",
       "      <td>0.788902</td>\n",
       "      <td>1.093571</td>\n",
       "    </tr>\n",
       "    <tr>\n",
       "      <th>4</th>\n",
       "      <td>0.658524</td>\n",
       "      <td>0.195389</td>\n",
       "    </tr>\n",
       "  </tbody>\n",
       "</table>\n",
       "</div>"
      ],
      "text/plain": [
       "          X         Y\n",
       "0  0.020819  0.922770\n",
       "1  0.463678 -0.542535\n",
       "2  0.603478 -0.223665\n",
       "3  0.788902  1.093571\n",
       "4  0.658524  0.195389"
      ]
     },
     "execution_count": 8,
     "metadata": {},
     "output_type": "execute_result"
    }
   ],
   "source": [
    "# generate 100 samples from Uniform(0,1)\n",
    "X = np.random.uniform(0, 1, 100)\n",
    "# generate Y based on X\n",
    "Y = np.random.uniform(X+np.cos(2*np.pi*X)-0.1, X+np.cos(2*np.pi*X)+0.1)\n",
    "df = pd.DataFrame({'X': X, 'Y': Y})\n",
    "df.head()"
   ]
  },
  {
   "cell_type": "code",
   "execution_count": 14,
   "id": "277b630a-c0bf-4718-9e3f-d5c9833c51d5",
   "metadata": {},
   "outputs": [
    {
     "data": {
      "text/html": [
       "<div>\n",
       "<style scoped>\n",
       "    .dataframe tbody tr th:only-of-type {\n",
       "        vertical-align: middle;\n",
       "    }\n",
       "\n",
       "    .dataframe tbody tr th {\n",
       "        vertical-align: top;\n",
       "    }\n",
       "\n",
       "    .dataframe thead th {\n",
       "        text-align: right;\n",
       "    }\n",
       "</style>\n",
       "<table border=\"1\" class=\"dataframe\">\n",
       "  <thead>\n",
       "    <tr style=\"text-align: right;\">\n",
       "      <th></th>\n",
       "      <th>X</th>\n",
       "      <th>Y</th>\n",
       "      <th>y_pred</th>\n",
       "    </tr>\n",
       "  </thead>\n",
       "  <tbody>\n",
       "    <tr>\n",
       "      <th>0</th>\n",
       "      <td>0.020819</td>\n",
       "      <td>0.922770</td>\n",
       "      <td>0.099935</td>\n",
       "    </tr>\n",
       "    <tr>\n",
       "      <th>1</th>\n",
       "      <td>0.463678</td>\n",
       "      <td>-0.542535</td>\n",
       "      <td>0.521290</td>\n",
       "    </tr>\n",
       "    <tr>\n",
       "      <th>2</th>\n",
       "      <td>0.603478</td>\n",
       "      <td>-0.223665</td>\n",
       "      <td>0.654302</td>\n",
       "    </tr>\n",
       "    <tr>\n",
       "      <th>3</th>\n",
       "      <td>0.788902</td>\n",
       "      <td>1.093571</td>\n",
       "      <td>0.830722</td>\n",
       "    </tr>\n",
       "    <tr>\n",
       "      <th>4</th>\n",
       "      <td>0.658524</td>\n",
       "      <td>0.195389</td>\n",
       "      <td>0.706674</td>\n",
       "    </tr>\n",
       "  </tbody>\n",
       "</table>\n",
       "</div>"
      ],
      "text/plain": [
       "          X         Y    y_pred\n",
       "0  0.020819  0.922770  0.099935\n",
       "1  0.463678 -0.542535  0.521290\n",
       "2  0.603478 -0.223665  0.654302\n",
       "3  0.788902  1.093571  0.830722\n",
       "4  0.658524  0.195389  0.706674"
      ]
     },
     "execution_count": 14,
     "metadata": {},
     "output_type": "execute_result"
    }
   ],
   "source": [
    "# reshape data into 2-D array to fit LinearRegression\n",
    "x_reshape = df['X'].values.reshape(-1,1)\n",
    "y_reshape = df['Y'].values.reshape(-1,1)\n",
    "# linear regression\n",
    "model = LinearRegression()\n",
    "model.fit(x_reshape, y_reshape)\n",
    "df['y_pred'] = model.predict(x_reshape)\n",
    "df.head()"
   ]
  },
  {
   "cell_type": "code",
   "execution_count": 26,
   "id": "7c5f8ab3-e523-4878-b8b4-abae3b8aede5",
   "metadata": {},
   "outputs": [
    {
     "data": {
      "image/png": "[encoded data removed]",
      "text/plain": [
       "<Figure size 1000x600 with 1 Axes>"
      ]
     },
     "metadata": {},
     "output_type": "display_data"
    }
   ],
   "source": [
    "# draw the plot\n",
    "y_true = x_reshape + np.cos(2*np.pi*x_reshape)\n",
    "idx = np.argsort(X)\n",
    "\n",
    "plt.figure(figsize=(10, 6))\n",
    "\n",
    "plt.scatter(X, Y, alpha=0.5, label=\"Data Points\") # samples\n",
    "plt.plot(X[idx], df.y_pred[idx], 'r-', label=\"Estimated Values\") # estimated values\n",
    "plt.plot(x_reshape[idx], y_true[idx], 'g-', label=\"True Function\") # true values\n",
    "\n",
    "# plot format\n",
    "plt.xlabel('X')\n",
    "plt.ylabel('Y')\n",
    "plt.title('Regression Analysis')\n",
    "plt.legend()\n",
    "\n",
    "plt.show()"
   ]
  },
  {
   "cell_type": "code",
   "execution_count": 34,
   "id": "a6dace2d-66e2-44bd-88fc-cde93eca166f",
   "metadata": {},
   "outputs": [
    {
     "name": "stdout",
     "output_type": "stream",
     "text": [
      "The predicted value when x=0.5: [0.55584839]\n"
     ]
    }
   ],
   "source": [
    "# the estimated values when x=0.5\n",
    "f_est = model.predict([[0.5]])[0]\n",
    "print(f\"The predicted value when x=0.5: {f_est}\"),"
   ]
  },
  {
   "cell_type": "markdown",
   "id": "d7d24557-0cf5-4051-92c8-cdb5e71ac0cf",
   "metadata": {},
   "source": [
    "**(d) Now construct 500 simulated datasets, each with 100 samples. Denote the datasets by** $\\{\\mathcal{D_1}\\dots,\\mathcal{D_{500}}\\}$. **For each dataset,** $\\mathcal{D_i}$ **, fit a new `LinearRegression` model and calculate** $\\hat{f}(0.5, \\mathcal{D})$. **Store these estimates in a 500-dimensional vector,** \n",
    "$$\\text{preds}=(\\hat{f}(0.5, \\mathcal{D_1}),\\dots,\\hat{f}(0.5, \\mathcal{D_{500}}))$$\n",
    "\n",
    "**Plot a histogram of `preds`**"
   ]
  },
  {
   "cell_type": "code",
   "execution_count": 39,
   "id": "b425ab3a-26b6-4059-8728-a1b4bc3acd00",
   "metadata": {},
   "outputs": [
    {
     "data": {
      "image/png": "[encoded data removed]",
      "text/plain": [
       "<Figure size 1000x600 with 1 Axes>"
      ]
     },
     "metadata": {},
     "output_type": "display_data"
    }
   ],
   "source": [
    "np.random.seed(503)\n",
    "\n",
    "preds = np.zeros(500)\n",
    "\n",
    "for i in range(500):\n",
    "    X = np.random.uniform(0,1,100)\n",
    "    Y = np.random.uniform(X+np.cos(2*np.pi*X)-0.1, X+np.cos(2*np.pi*X)+0.1)\n",
    "\n",
    "    model = LinearRegression()\n",
    "    model.fit(X.reshape(-1,1), Y)\n",
    "\n",
    "    preds[i] = model.predict([[0.5]])[0]\n",
    "\n",
    "plt.figure(figsize=(10, 6))\n",
    "plt.hist(preds, bins=30, edgecolor='black')\n",
    "plt.xlabel('f̂(0.5, D)')\n",
    "plt.ylabel('Frequency')\n",
    "plt.title('Histogram of f̂(0.5, D) across 500 simulated datasets')\n",
    "# plt.grid(True)\n",
    "plt.show()"
   ]
  },
  {
   "cell_type": "markdown",
   "id": "f047109c-c827-4cc1-8d15-c3f53979f723",
   "metadata": {},
   "source": [
    "**(e) Compare the mean value fo `preds` to the value you computed in part(a) of this problem. What does this suggest about the bias of the ordinary least squares estimator** $\\hat{f}(0.5, \\mathcal{D})$"
   ]
  },
  {
   "cell_type": "code",
   "execution_count": 40,
   "id": "9aecf282-a858-4569-9f21-7d1e9a0ae594",
   "metadata": {},
   "outputs": [
    {
     "name": "stdout",
     "output_type": "stream",
     "text": [
      "The mean value of 500 predicted values: 0.49407862962132\n",
      "The bias of the OLS: 0.99407862962132\n"
     ]
    }
   ],
   "source": [
    "print(f\"The mean value of 500 predicted values: {np.mean(preds)}\")\n",
    "print(f\"The bias of the OLS: {np.mean(preds)+0.5}\")"
   ]
  },
  {
   "cell_type": "markdown",
   "id": "b00a30b5-61f6-4cc6-8620-c0efdafcaabc",
   "metadata": {},
   "source": [
    "**(f) Compute the variance of `preds`. What does this say about the variance of\n",
    "the ordinary least squares estimator** $\\hat{f}(0.5, \\mathcal{D})$p"
   ]
  },
  {
   "cell_type": "code",
   "execution_count": 38,
   "id": "191f5156-0282-4ca6-8597-7e73df3e707d",
   "metadata": {},
   "outputs": [
    {
     "name": "stdout",
     "output_type": "stream",
     "text": [
      "The variance of 500 predictions: 0.005288361134121971\n"
     ]
    }
   ],
   "source": [
    "print(f\"The variance of 500 predictions: {np.var(preds)}\")"
   ]
  },
  {
   "cell_type": "markdown",
   "id": "b6c9ecba-e242-4a8d-8cd7-1fddc2f937d5",
   "metadata": {},
   "source": [
    "The variance of the OLS estimator is."
   ]
  },
  {
   "cell_type": "markdown",
   "id": "a3b5ecb6-7b8c-40ef-896e-6f839e3ac2d2",
   "metadata": {},
   "source": [
    "**(g) Suppose we gathered a new dataset with 100 samples and fit a linear regression model. Now imagine we observe a new sample with** $X = 0.5$ **and use our model to predict** $Y$ **. Estimate the expected value of the squared error of our prediction. Note: the expectation should average over randomness in the training dataset as well as randomness in the test sample** $(X,Y)$."
   ]
  },
  {
   "cell_type": "markdown",
   "id": "114d1a07-48ee-4755-9dbd-ffa91813b4a4",
   "metadata": {},
   "source": [
    "According to previous answers,\n",
    "$$\n",
    "\\begin{align*}\n",
    "f(0.5) &= \\mathbb{E}[Y|X=0.5]=-0.5 \\\\\n",
    "\\text{var}[Y|X=0.5] &= \\cfrac{1}{300} \\\\\n",
    "\\mathbb{E}[\\hat{f}|X=0.5] &= 0.494 \\\\\n",
    "\\text{var}[\\hat{f}|X=0.5] &= 0.005 \\\\\n",
    "\\end{align*}\n",
    "$$\n",
    "\n",
    "Therefore, the expected value of squared error of the prediction:\n",
    "$$\n",
    "\\begin{align*}\n",
    "\\mathbb{E}[(\\hat{f}-Y)^2] &= \\text{Bias}^2+\\text{Var}+\\text{Var}[Y|X=0.5] \\\\\n",
    "&= (\\mathbb{E}(\\hat{f})-\\mathbb{E}[Y|X=0.5])^2+\\text{var}[\\hat{f}|X=0.5]+\\text{Var}[Y|X=0.5] \\\\\n",
    "&\\approx 0.994^2+0.005+1/300 \\\\\n",
    "&\\approx 0.996\n",
    "\\end{align*}\n",
    "$$"
   ]
  }
 ],
 "metadata": {
  "kernelspec": {
   "display_name": "503kernel",
   "language": "python",
   "name": "503kernel"
  },
  "language_info": {
   "codemirror_mode": {
    "name": "ipython",
    "version": 3
   },
   "file_extension": ".py",
   "mimetype": "text/x-python",
   "name": "python",
   "nbconvert_exporter": "python",
   "pygments_lexer": "ipython3",
   "version": "3.9.19"
  }
 },
 "nbformat": 4,
 "nbformat_minor": 5
}
