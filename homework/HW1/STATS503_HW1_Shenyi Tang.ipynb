{
 "cells": [
  {
   "cell_type": "markdown",
   "id": "6ba0d8b9-5efb-4c92-b4da-6aee222de6ab",
   "metadata": {},
   "source": [
    "#### Question 1\n",
    "**(a) Name three variables related to academics that you could collect or measure about each student in this population. Of these three variables, one must be ordinal, one must be categorical, and one must be continuous.**\n",
    "\n",
    "- ordinal variable: year in the program\n",
    "- categorical variable: undergraduate major\n",
    "- continuous variable: GPA of the last semester\n",
    "\n",
    "**(b) Suppose you have collected a dataset containing these variables for the population of students taking STATS 503 this semester. Now consider using this dataset to make inferences about a different population. Name another population about which we could plausibly make inferences. Name another population that would be more difficult\n",
    "to make inferences about.**\n",
    "\n",
    "- The population we coule plausibly make inferences: Graduate students in statistics program of the other US university\n",
    "- The population that is more difficult to make inferences: High school AP statistics students"
   ]
  },
  {
   "cell_type": "markdown",
   "id": "29b0118f-306a-429b-882e-d1c26844f03b",
   "metadata": {},
   "source": [
    "#### Question 2\n",
    "**(a) We collect a set of data on the top 500 firms in the United States. For each firm, we record the profit, the number of employees, the industry, and the CEO salary. We are interested in understanding which factors affect CEO salary.**\n",
    "\n",
    "- This is a regression problem.\n",
    "- More interested in inference\n",
    "- The number of sampels $(n)$: 500\n",
    "- The number of features $(p)$: 3 (profit, the number of employees and the industry)\n",
    "\n",
    "**(b) We are considering releasing a new product and want to know whether it will be a success or a failure. We collect data on 20 similar products that were previously launched. For each product, we have recorded whether it was a success or failure, the price charged for the product, the marketing budget, the competition price, and ten other variables.**\n",
    "\n",
    "- This is a classifiction problem.\n",
    "- More interested in prediction\n",
    "- The number of sampels $(n)$: 20\n",
    "- The number of features $(p)$: 13 (the price, the marketing budget, the competition price, and 10 other variables)\n",
    "\n",
    "**(c) We are interested in predicting the percentage change in the USD/Euro exchange rate in relation to the weekly changes in the world stock markets. Hence, we collect weekly data for all of 2012. For each week, we record the percent change in the USD/Euro, the precent change in the US market, the percent change in the British market, and the percent change in the German market.**\n",
    "\n",
    "- This is a regression problem.\n",
    "- More interested in prediction\n",
    "- The number of sampels $(n)$: 52 (the number of weeks in Year 2012)\n",
    "- The number of sampels $(p)$: 3 (the percent change in the US market, the percent change in the British market, and the percent change in the German market)"
   ]
  },
  {
   "cell_type": "markdown",
   "id": "87bc0b9d-98fc-4b5f-9c8a-05ee9f3a0a81",
   "metadata": {},
   "source": [
    "#### Question 3\n",
    "**(a) True or false: typically, the bias of your estimate will be lower with more flexible methods**\n",
    "\n",
    "- True\n",
    "\n",
    "**(b) True of false: typically, the variance of your estimate will be lower with more flexible methods**\n",
    "\n",
    "- False\n",
    "\n",
    "**(c) True of false: typically, irrducible error will be lower with more flexible methods**\n",
    "\n",
    "- False"
   ]
  },
  {
   "cell_type": "markdown",
   "id": "1fccabb7-9b33-403b-a34d-bf2d1ee9667a",
   "metadata": {},
   "source": [
    "#### Question 4\n",
    "**(a) As the size of your training dataset tends to infinity (for a fixed number of neighbors, K), the bias of the KNN regression estimate will tend to 0.**\n",
    "\n",
    "- False\n",
    "\n",
    "**(b) As the size of your training dataset tends to infinity (for a fixed number of neighbors, K), the variance of the KNN regression estimate will tend to 0.**\n",
    "\n",
    "- True\n",
    "\n",
    "**(c) As the size of your training dataset tends to infinity, the bias of a least squares linear regression estimate will tend to zero.**\n",
    "\n",
    "- False\n",
    "\n",
    "**(d) As the size of your training dataset tends to infinity, the variance of a least squares linear\n",
    "regression estimate will tend to 0.**\n",
    "\n",
    "- True"
   ]
  },
  {
   "cell_type": "markdown",
   "id": "6723639b-5cc8-4feb-802e-28fe88e2c12f",
   "metadata": {},
   "source": [
    "#### Question 5"
   ]
  },
  {
   "cell_type": "markdown",
   "id": "d5f09577-11e6-40e4-98ad-f5076dc2b36f",
   "metadata": {},
   "source": [
    "**(a) Access the shape property of your data frame to compute the number of samples we have and the number of variables measured about each sample.**"
   ]
  },
  {
   "cell_type": "code",
   "execution_count": 7,
   "id": "995013a1-5087-4f1b-b06b-00d1942c995f",
   "metadata": {},
   "outputs": [
    {
     "name": "stdout",
     "output_type": "stream",
     "text": [
      "The number of samples: 650\n",
      "The number of variables: 19\n"
     ]
    }
   ],
   "source": [
    "import pandas as pd\n",
    "\n",
    "ct = pd.read_csv(\"college_train.csv\", sep=',')\n",
    "print(f\"The number of samples: {ct.shape[0]}\\nThe number of variables: {ct.shape[1]}\")"
   ]
  },
  {
   "cell_type": "markdown",
   "id": "959bd33e-911d-47d1-82c8-d7da03e063b0",
   "metadata": {},
   "source": [
    "**(b) Compute the mean and standard deviation of the Books feature.**"
   ]
  },
  {
   "cell_type": "code",
   "execution_count": 10,
   "id": "a735ec84-1c78-4b11-ac36-2faa4878a9a3",
   "metadata": {},
   "outputs": [
    {
     "name": "stdout",
     "output_type": "stream",
     "text": [
      "The mean of the Books feature: 551.6553846153846\n",
      "The standard deviation of the Books feature: 168.64335324879607\n"
     ]
    }
   ],
   "source": [
    "print(f\"The mean of the Books feature: {ct.Books.mean()}\")\n",
    "print(f\"The standard deviation of the Books feature: {ct.Books.std()}\")"
   ]
  },
  {
   "cell_type": "markdown",
   "id": "a5ebb6ff-93f4-4ddf-9820-451502b39457",
   "metadata": {},
   "source": [
    "**(c) For how many samples is the Terminal feature at least 90?**"
   ]
  },
  {
   "cell_type": "code",
   "execution_count": 14,
   "id": "7d3333ff-bdd0-4920-bc56-be91f0868833",
   "metadata": {},
   "outputs": [
    {
     "name": "stdout",
     "output_type": "stream",
     "text": [
      "207 samples have the Terminal feature at least 90\n"
     ]
    }
   ],
   "source": [
    "n_terminal_gt_90 = ct.loc[ct[\"Terminal\"] >= 90].shape[0]\n",
    "print(f\"{n_terminal_gt_90} samples have the Terminal feature at least 90\")"
   ]
  },
  {
   "cell_type": "markdown",
   "id": "d63d42d9-5f40-4236-9c38-564ca15fa913",
   "metadata": {},
   "source": [
    "**(d) Create a new dataframe that only includes samples where Private is equal to Yes**\n",
    "\n",
    "-  **What is the mean value of Books in the new dataframe?**\n",
    "-  **What is the standard deviation of Books in the new dataframe?**"
   ]
  },
  {
   "cell_type": "code",
   "execution_count": 17,
   "id": "52a6be15-4eef-4f69-ab9d-4febc10065ea",
   "metadata": {},
   "outputs": [
    {
     "name": "stdout",
     "output_type": "stream",
     "text": [
      "The mean value of the Books feature in the new dataframe: 550.2972399150743\n",
      "The standard deviation of the Books feature in the new dataframe: 179.7250049878915\n"
     ]
    }
   ],
   "source": [
    "# The new dataframe\n",
    "private_yes = ct.loc[ct[\"Private\"] == \"Yes\"]\n",
    "\n",
    "# The mean value of Books in the new dataframe\n",
    "print(f\"The mean value of the Books feature in the new dataframe: {private_yes.Books.mean()}\")\n",
    "\n",
    "# The standard deviation of Books in the new dataframe\n",
    "print(f\"The standard deviation of the Books feature in the new dataframe: {private_yes.Books.std()}\")"
   ]
  },
  {
   "cell_type": "markdown",
   "id": "87f5ab47-241f-4fe5-8608-0652d5ef4968",
   "metadata": {},
   "source": [
    "**(e) Use a for loop to print the following text.**"
   ]
  },
  {
   "cell_type": "code",
   "execution_count": 3,
   "id": "1ea56839-746c-491e-a98b-9469c9480229",
   "metadata": {
    "scrolled": true
   },
   "outputs": [
    {
     "name": "stdout",
     "output_type": "stream",
     "text": [
      "Hellow world 1.\n",
      "Hellow world 2.\n",
      "Hellow world 4.\n",
      "Hellow world 8.\n",
      "Hellow world 16.\n"
     ]
    }
   ],
   "source": [
    "for i in range(5):\n",
    "    print(f\"Hellow world {2**i}.\")"
   ]
  },
  {
   "cell_type": "markdown",
   "id": "7eb81090-fd17-4fe2-8ed2-fb6059628cf4",
   "metadata": {},
   "source": [
    "**(f) Create a markdown Jupyter cell with the following contents.**"
   ]
  },
  {
   "cell_type": "markdown",
   "id": "b22b0f87-98f8-4d5f-aee4-74d27b4bfcb1",
   "metadata": {},
   "source": [
    "# This is a section heading\n",
    "In this section I have a bigger formula, $$\\sqrt{\\frac{\\alpha}{\\sqrt{\\beta^2+\\cos 3}}}$$\n",
    "and an in-line formula, $\\sqrt{3}$. I made **this text** bold."
   ]
  }
 ],
 "metadata": {
  "kernelspec": {
   "display_name": "503kernel",
   "language": "python",
   "name": "503kernel"
  },
  "language_info": {
   "codemirror_mode": {
    "name": "ipython",
    "version": 3
   },
   "file_extension": ".py",
   "mimetype": "text/x-python",
   "name": "python",
   "nbconvert_exporter": "python",
   "pygments_lexer": "ipython3",
   "version": "3.9.19"
  }
 },
 "nbformat": 4,
 "nbformat_minor": 5
}
