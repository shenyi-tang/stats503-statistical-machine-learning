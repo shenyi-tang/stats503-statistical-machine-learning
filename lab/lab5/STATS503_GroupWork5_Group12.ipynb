{
  "cells": [
    {
      "cell_type": "markdown",
      "metadata": {
        "id": "P93PjjqPGWs1"
      },
      "source": [
        "# **STATS 503, Group Work Assignment 5: Cross validation**\n",
        "\n",
        "**Instructions:** During lab section, and afterward as necessary, you will collaborate in two-person teams (assigned by the GSI) to complete the problems that are interspersed below. The GSI will help individual teams encountering difficulty, make announcements addressing common issues, and help ensure progress for all teams. **During lab, feel free to flag down your GSI to ask questions at any point!** Upon completion, one member of the team should submit their team's work through Canvas as html.\n",
        "\n",
        "**credits:** Roman Kouznetsov, adapted from notes from Gang Qiao."
      ]
    },
    {
      "cell_type": "markdown",
      "metadata": {
        "id": "r5NokVXAGWs7"
      },
      "source": [
        "# Getting started\n",
        "\n"
      ]
    },
    {
      "cell_type": "markdown",
      "metadata": {
        "id": "kql1Yf8XGWs7"
      },
      "source": [
        "In this assignment, we will explore logistic regression and $k$-fold cross validation. In $k$-fold cross-validation, we partition a dataset into $k$ equally sized non-overlapping subsets $S$. For each subset $S_i$, a model is trained on $S\\backslash S_i$ and evaluated on $S_i$. The cross-validation estimator of the prediction's error is the average of the prediction errors obtained on each fold."
      ]
    },
    {
      "cell_type": "markdown",
      "metadata": {
        "id": "gnBgZRkPGWs8"
      },
      "source": [
        "Let's start with simple example that will help us understand how CV works. We'll first import the relevant packages."
      ]
    },
    {
      "cell_type": "code",
      "execution_count": null,
      "metadata": {
        "id": "i8WmEa65GWs8"
      },
      "outputs": [],
      "source": [
        "from sklearn.datasets import make_classification\n",
        "from sklearn.linear_model import LogisticRegression\n",
        "from sklearn.neighbors import KNeighborsClassifier\n",
        "from sklearn.model_selection import cross_val_score\n",
        "from sklearn.model_selection import KFold\n",
        "from sklearn.model_selection import train_test_split\n",
        "import sklearn.metrics\n",
        "import numpy as np\n",
        "import pandas as pd"
      ]
    },
    {
      "cell_type": "markdown",
      "metadata": {
        "id": "Z4UuA4DjGWs-"
      },
      "source": [
        "For demonstration purposes, let's create a synthetic binary classification dataset using scikit-learn's `make_classification` function."
      ]
    },
    {
      "cell_type": "code",
      "execution_count": null,
      "metadata": {
        "id": "P2F9Pc-SGWs_"
      },
      "outputs": [],
      "source": [
        "# Generate a synthetic binary classification dataset\n",
        "X, y = make_classification(n_samples=1000, n_features=20, n_classes=2, random_state=42)"
      ]
    },
    {
      "cell_type": "markdown",
      "metadata": {
        "id": "tCZKz4fFGWtA"
      },
      "source": [
        "We'll look at two ways to do cross-validation.  First we'll do it \"by hand.\" Then we'll show how sklearn makes it easy."
      ]
    },
    {
      "cell_type": "markdown",
      "metadata": {
        "id": "5wEnQ9pDGWtA"
      },
      "source": [
        "# K-fold CV by hand"
      ]
    },
    {
      "cell_type": "markdown",
      "metadata": {
        "id": "PQ9JDfTTGWtA"
      },
      "source": [
        "First, we divide the data into 10 parts (a.k.a. folds)."
      ]
    },
    {
      "cell_type": "code",
      "execution_count": null,
      "metadata": {
        "id": "Pxmt83EyGWtB"
      },
      "outputs": [],
      "source": [
        "n_splits = 10 # 10-fold\n",
        "rng = np.random.default_rng(0) # make a random number generator with fixed seed\n",
        "permutation = rng.permutation(len(X)) # create a shuffling of the indices of our data\n",
        "splits = np.split(permutation,n_splits) # make folds"
      ]
    },
    {
      "cell_type": "code",
      "execution_count": null,
      "metadata": {
        "id": "dTrUG9IKGWtB",
        "outputId": "71ce7fad-339d-4658-e84b-7e5a3b1a11d9",
        "colab": {
          "base_uri": "https://localhost:8080/"
        }
      },
      "outputs": [
        {
          "output_type": "execute_result",
          "data": {
            "text/plain": [
              "array([290, 277, 360, 524, 462, 789, 908, 493, 818, 251, 623, 123, 781,\n",
              "       589, 874, 304, 869, 746, 576, 811, 433, 837,  37, 161,  58, 560,\n",
              "       643, 965, 163,  64, 475, 838, 168, 659, 109,  41, 756, 596, 303,\n",
              "       763, 101, 703, 120, 531, 366, 553, 548, 575, 731, 470, 578, 660,\n",
              "       551, 417, 716, 911, 227, 587, 872, 185, 513, 866, 321, 418, 760,\n",
              "       820, 119, 952,  24, 606, 170, 278, 514,  15, 155, 367, 828,  92,\n",
              "        55, 897, 118, 791, 701, 145, 860, 645, 620, 778, 497, 794, 246,\n",
              "       842,  80, 646, 225, 951, 482,  20, 343, 250])"
            ]
          },
          "metadata": {},
          "execution_count": 8
        }
      ],
      "source": [
        "# e.g., these are the *indices* of the datapoints \"fold 3\"\n",
        "splits[3]"
      ]
    },
    {
      "cell_type": "code",
      "execution_count": null,
      "metadata": {
        "id": "YZ_jrZOPGWtC",
        "outputId": "30781b1d-85b3-4dcf-805c-8506bbe2a37a",
        "colab": {
          "base_uri": "https://localhost:8080/"
        }
      },
      "outputs": [
        {
          "output_type": "execute_result",
          "data": {
            "text/plain": [
              "array([1, 1, 0, 1, 0, 0, 1, 0, 0, 1, 1, 0, 0, 1, 0, 0, 0, 1, 1, 1, 1, 1,\n",
              "       1, 0, 1, 0, 1, 1, 1, 0, 0, 1, 0, 0, 0, 1, 0, 0, 1, 0, 1, 0, 1, 0,\n",
              "       1, 0, 1, 1, 0, 0, 1, 1, 1, 1, 1, 1, 0, 1, 1, 1, 1, 1, 1, 1, 1, 1,\n",
              "       1, 1, 1, 1, 1, 1, 1, 1, 1, 0, 0, 0, 1, 0, 0, 1, 1, 1, 1, 0, 0, 0,\n",
              "       0, 0, 0, 1, 1, 0, 0, 1, 1, 1, 0, 0])"
            ]
          },
          "metadata": {},
          "execution_count": 9
        }
      ],
      "source": [
        "# and these are the y values for the corresponding samples\n",
        "y[splits[3]]"
      ]
    },
    {
      "cell_type": "markdown",
      "metadata": {
        "id": "G07HGg1PGWtC"
      },
      "source": [
        "Now, we'll assess predictive performance 10 times.  Each time we'll hold out a different fold and use the rest of the data for training."
      ]
    },
    {
      "cell_type": "code",
      "execution_count": null,
      "metadata": {
        "id": "9qnRHQyKGWtD"
      },
      "outputs": [],
      "source": [
        "# we'll look at two metrics of predictive performance,\n",
        "# and store the results in these arrays\n",
        "missclass = np.zeros(len(splits))\n",
        "aurocs = np.zeros(len(splits)) # since this is binary classification, we can assess via auroc\n",
        "\n",
        "# iterate through folds\n",
        "for i in range(len(splits)):\n",
        "    # create test/train split for this held-out fold\n",
        "    s = list(splits) # copy list\n",
        "    test = s.pop(i) # pop out the ith fold\n",
        "    training = np.concatenate(s) # combine all remaining data for test\n",
        "\n",
        "    # fit model\n",
        "    model = LogisticRegression() # make estimator\n",
        "    model.fit(X[training], y[training]) # fit estimator using the training data\n",
        "\n",
        "    # assess metric for predictive performance using test data\n",
        "    missclass[i] = np.mean(model.predict(X[test])!= y[test]) # get misclassification on test data\n",
        "    aurocs[i] = sklearn.metrics.roc_auc_score(y[test], model.predict_proba(X[test])[:, 1]) # get auroc on test data"
      ]
    },
    {
      "cell_type": "code",
      "execution_count": null,
      "metadata": {
        "id": "LPVmEgICGWtD",
        "outputId": "c09fbd66-527f-46b8-a7a1-3958adf543dd",
        "colab": {
          "base_uri": "https://localhost:8080/"
        }
      },
      "outputs": [
        {
          "output_type": "execute_result",
          "data": {
            "text/plain": [
              "array([0.15, 0.15, 0.16, 0.1 , 0.21, 0.13, 0.11, 0.09, 0.15, 0.12])"
            ]
          },
          "metadata": {},
          "execution_count": 7
        }
      ],
      "source": [
        "missclass # misclassification rate for each of the 10 test/train splits"
      ]
    },
    {
      "cell_type": "code",
      "execution_count": null,
      "metadata": {
        "id": "6slDYasUGWtD",
        "outputId": "4e245390-bc4c-4d8f-96ae-f66daff16057",
        "colab": {
          "base_uri": "https://localhost:8080/"
        }
      },
      "outputs": [
        {
          "output_type": "execute_result",
          "data": {
            "text/plain": [
              "array([0.89783654, 0.90381494, 0.91304348, 0.93427036, 0.91666667,\n",
              "       0.90868506, 0.9696    , 0.96025692, 0.93830128, 0.95392628])"
            ]
          },
          "metadata": {},
          "execution_count": 8
        }
      ],
      "source": [
        "aurocs # auroc for each of the 10 test/train splits"
      ]
    },
    {
      "cell_type": "code",
      "execution_count": null,
      "metadata": {
        "id": "4IePmQ0NGWtD",
        "outputId": "d369725f-3176-49ee-d3d3-2e5c6ec7bba0",
        "colab": {
          "base_uri": "https://localhost:8080/"
        }
      },
      "outputs": [
        {
          "output_type": "stream",
          "name": "stdout",
          "text": [
            "Mean misclassification rate: 0.1370, plus minus 0.0105\n",
            "Auroc: 0.9296, plus minus 0.0076\n"
          ]
        }
      ],
      "source": [
        "# report conclusions: mean(scores) pm sqrt(tau^2/K)\n",
        "print(f\"Mean misclassification rate: {missclass.mean():.4f}, plus minus {np.sqrt(missclass.var()/n_splits):.4f}\")\n",
        "print(f\"Auroc: {aurocs.mean():.4f}, plus minus {np.sqrt(aurocs.var()/n_splits):.4f}\")"
      ]
    },
    {
      "cell_type": "markdown",
      "metadata": {
        "id": "KkdKmBTEGWtE"
      },
      "source": [
        "# K-fold CV using `sklearn.model_selection`"
      ]
    },
    {
      "cell_type": "code",
      "execution_count": null,
      "metadata": {
        "id": "texEqGz5GWtE"
      },
      "outputs": [],
      "source": [
        "model = LogisticRegression()"
      ]
    },
    {
      "cell_type": "markdown",
      "metadata": {
        "id": "XLOeFM5ZGWtE"
      },
      "source": [
        "Setup the $k$-fold cross-validation configuration. For example, using 10 folds...\n",
        "* `n_splits=10` means 10-fold\n",
        "* `shuffle=True` meaning random folds\n",
        "* `random_state=42` means we'll get the same random folds each time"
      ]
    },
    {
      "cell_type": "code",
      "execution_count": null,
      "metadata": {
        "id": "QpdtjKmjGWtF"
      },
      "outputs": [],
      "source": [
        "cv = KFold(n_splits=10, random_state=42, shuffle=True)"
      ]
    },
    {
      "cell_type": "code",
      "execution_count": null,
      "metadata": {
        "id": "ylaPPJhcGWtF",
        "outputId": "966b5024-6f87-4fd9-d703-8f283a2886b8",
        "colab": {
          "base_uri": "https://localhost:8080/"
        }
      },
      "outputs": [
        {
          "output_type": "stream",
          "name": "stdout",
          "text": [
            "\n",
            "split 0\n",
            "   test:   [ 10 23 30 39 54 59 63 66 67 70 ...]\n",
            "   train:  [ 0 1 2 3 4 5 6 7 8 9 ...]\n",
            "\n",
            "split 1\n",
            "   test:   [ 25 44 55 60 72 78 86 110 120 137 ...]\n",
            "   train:  [ 0 1 2 3 4 5 6 7 8 9 ...]\n",
            "\n",
            "split 2\n",
            "   test:   [ 2 3 5 7 9 29 31 33 49 65 ...]\n",
            "   train:  [ 0 1 4 6 8 10 11 12 13 14 ...]\n",
            "\n",
            "split 3\n",
            "   test:   [ 0 6 28 41 56 69 73 79 90 108 ...]\n",
            "   train:  [ 1 2 3 4 5 7 8 9 10 11 ...]\n",
            "\n",
            "split 4\n",
            "   test:   [ 11 12 18 24 42 43 51 61 74 83 ...]\n",
            "   train:  [ 0 1 2 3 4 5 6 7 8 9 ...]\n",
            "\n",
            "split 5\n",
            "   test:   [ 15 19 22 38 46 50 57 68 75 93 ...]\n",
            "   train:  [ 0 1 2 3 4 5 6 7 8 9 ...]\n",
            "\n",
            "split 6\n",
            "   test:   [ 8 16 17 26 36 37 45 48 53 103 ...]\n",
            "   train:  [ 0 1 2 3 4 5 6 7 9 10 ...]\n",
            "\n",
            "split 7\n",
            "   test:   [ 112 122 123 129 143 146 147 183 186 197 ...]\n",
            "   train:  [ 0 1 2 3 4 5 6 7 8 9 ...]\n",
            "\n",
            "split 8\n",
            "   test:   [ 4 14 27 32 35 40 47 52 62 64 ...]\n",
            "   train:  [ 0 1 2 3 5 6 7 8 9 10 ...]\n",
            "\n",
            "split 9\n",
            "   test:   [ 1 13 20 21 34 58 71 80 87 91 ...]\n",
            "   train:  [ 0 2 3 4 5 6 7 8 9 10 ...]\n"
          ]
        }
      ],
      "source": [
        "# look at folds generated by this cross-validation splitter\n",
        "for i, (train, test) in enumerate(cv.split(X)):\n",
        "    # this automatically gives you the train indices and test indices\n",
        "    # without having to construct them yourselves by combining folds\n",
        "    print(f'\\nsplit {i}')\n",
        "    print('   test:   [', ' '.join(test[:10].astype('U')),'...]') # test indices\n",
        "    print('   train:  [', ' '.join(train[:10].astype('U')),'...]') # train indices"
      ]
    },
    {
      "cell_type": "markdown",
      "metadata": {
        "id": "AhRUZSnUGWtF"
      },
      "source": [
        "In fact, you don't even have to run the for loop yourself!\n",
        "\n",
        "With a single call to cross_val_score, we can evaluate the model using cross-validation. Here, we'll use accuracy as the performance metric, but you can choose other metrics like precision, recall, etc."
      ]
    },
    {
      "cell_type": "code",
      "execution_count": null,
      "metadata": {
        "id": "6SnRg4HeGWtF",
        "outputId": "aeb5bf27-9426-409b-ef8b-6c9a079680b9",
        "colab": {
          "base_uri": "https://localhost:8080/"
        }
      },
      "outputs": [
        {
          "output_type": "execute_result",
          "data": {
            "text/plain": [
              "array([0.87, 0.86, 0.83, 0.89, 0.88, 0.86, 0.85, 0.87, 0.9 , 0.86])"
            ]
          },
          "metadata": {},
          "execution_count": 14
        }
      ],
      "source": [
        "# Calculate accuracies across folds\n",
        "scores = cross_val_score(model, X, y, scoring='accuracy', cv=cv, n_jobs=-1)\n",
        "scores"
      ]
    },
    {
      "cell_type": "code",
      "execution_count": null,
      "metadata": {
        "id": "0vfWt2OLGWtF",
        "outputId": "91b48674-6e31-4445-c2aa-7298e0a88232",
        "colab": {
          "base_uri": "https://localhost:8080/"
        }
      },
      "outputs": [
        {
          "output_type": "stream",
          "name": "stdout",
          "text": [
            "Mean accuracy: 0.8670, plus minus 0.0060\n",
            "Mean misclassification rate: 0.1330, plus minus 0.0060\n"
          ]
        }
      ],
      "source": [
        "print(f\"Mean accuracy: {scores.mean():.4f}, plus minus {np.sqrt(scores.var()/len(scores)):.4f}\")\n",
        "print(f\"Mean misclassification rate: {1-scores.mean():.4f}, plus minus {np.sqrt(scores.var()/len(scores)):.4f}\")"
      ]
    },
    {
      "cell_type": "markdown",
      "metadata": {
        "id": "PveolAuGGWtF"
      },
      "source": [
        "Note that conclusions are not exactly the same, because CV used different splits."
      ]
    },
    {
      "cell_type": "markdown",
      "metadata": {
        "id": "TcYBSejGGWtG"
      },
      "source": [
        "If you want to use multiple metrics, use skelarn.cross_validate instead."
      ]
    },
    {
      "cell_type": "code",
      "execution_count": null,
      "metadata": {
        "id": "c-KLzExsGWtG",
        "outputId": "7ad3096a-96cd-44ef-f65d-157b93debe93",
        "colab": {
          "base_uri": "https://localhost:8080/",
          "height": 363
        }
      },
      "outputs": [
        {
          "output_type": "execute_result",
          "data": {
            "text/plain": [
              "   fit_time  score_time  test_accuracy  train_accuracy  test_roc_auc  \\\n",
              "0  0.011338    0.005495           0.87        0.874444      0.910879   \n",
              "1  0.004352    0.005089           0.86        0.880000      0.926250   \n",
              "2  0.004015    0.004012           0.83        0.881111      0.900641   \n",
              "3  0.007936    0.004390           0.89        0.872222      0.942222   \n",
              "4  0.004344    0.004903           0.88        0.877778      0.951600   \n",
              "5  0.004102    0.004144           0.86        0.876667      0.939382   \n",
              "6  0.004033    0.004348           0.85        0.883333      0.910364   \n",
              "7  0.006532    0.005003           0.87        0.880000      0.890405   \n",
              "8  0.004055    0.004431           0.90        0.870000      0.961851   \n",
              "9  0.009408    0.004527           0.86        0.876667      0.958788   \n",
              "\n",
              "   train_roc_auc  \n",
              "0       0.937207  \n",
              "1       0.936828  \n",
              "2       0.939317  \n",
              "3       0.934140  \n",
              "4       0.933526  \n",
              "5       0.934303  \n",
              "6       0.937373  \n",
              "7       0.939992  \n",
              "8       0.932240  \n",
              "9       0.932327  "
            ],
            "text/html": [
              "\n",
              "  <div id=\"df-812a3793-2d40-4461-b464-d6233c3fe116\" class=\"colab-df-container\">\n",
              "    <div>\n",
              "<style scoped>\n",
              "    .dataframe tbody tr th:only-of-type {\n",
              "        vertical-align: middle;\n",
              "    }\n",
              "\n",
              "    .dataframe tbody tr th {\n",
              "        vertical-align: top;\n",
              "    }\n",
              "\n",
              "    .dataframe thead th {\n",
              "        text-align: right;\n",
              "    }\n",
              "</style>\n",
              "<table border=\"1\" class=\"dataframe\">\n",
              "  <thead>\n",
              "    <tr style=\"text-align: right;\">\n",
              "      <th></th>\n",
              "      <th>fit_time</th>\n",
              "      <th>score_time</th>\n",
              "      <th>test_accuracy</th>\n",
              "      <th>train_accuracy</th>\n",
              "      <th>test_roc_auc</th>\n",
              "      <th>train_roc_auc</th>\n",
              "    </tr>\n",
              "  </thead>\n",
              "  <tbody>\n",
              "    <tr>\n",
              "      <th>0</th>\n",
              "      <td>0.011338</td>\n",
              "      <td>0.005495</td>\n",
              "      <td>0.87</td>\n",
              "      <td>0.874444</td>\n",
              "      <td>0.910879</td>\n",
              "      <td>0.937207</td>\n",
              "    </tr>\n",
              "    <tr>\n",
              "      <th>1</th>\n",
              "      <td>0.004352</td>\n",
              "      <td>0.005089</td>\n",
              "      <td>0.86</td>\n",
              "      <td>0.880000</td>\n",
              "      <td>0.926250</td>\n",
              "      <td>0.936828</td>\n",
              "    </tr>\n",
              "    <tr>\n",
              "      <th>2</th>\n",
              "      <td>0.004015</td>\n",
              "      <td>0.004012</td>\n",
              "      <td>0.83</td>\n",
              "      <td>0.881111</td>\n",
              "      <td>0.900641</td>\n",
              "      <td>0.939317</td>\n",
              "    </tr>\n",
              "    <tr>\n",
              "      <th>3</th>\n",
              "      <td>0.007936</td>\n",
              "      <td>0.004390</td>\n",
              "      <td>0.89</td>\n",
              "      <td>0.872222</td>\n",
              "      <td>0.942222</td>\n",
              "      <td>0.934140</td>\n",
              "    </tr>\n",
              "    <tr>\n",
              "      <th>4</th>\n",
              "      <td>0.004344</td>\n",
              "      <td>0.004903</td>\n",
              "      <td>0.88</td>\n",
              "      <td>0.877778</td>\n",
              "      <td>0.951600</td>\n",
              "      <td>0.933526</td>\n",
              "    </tr>\n",
              "    <tr>\n",
              "      <th>5</th>\n",
              "      <td>0.004102</td>\n",
              "      <td>0.004144</td>\n",
              "      <td>0.86</td>\n",
              "      <td>0.876667</td>\n",
              "      <td>0.939382</td>\n",
              "      <td>0.934303</td>\n",
              "    </tr>\n",
              "    <tr>\n",
              "      <th>6</th>\n",
              "      <td>0.004033</td>\n",
              "      <td>0.004348</td>\n",
              "      <td>0.85</td>\n",
              "      <td>0.883333</td>\n",
              "      <td>0.910364</td>\n",
              "      <td>0.937373</td>\n",
              "    </tr>\n",
              "    <tr>\n",
              "      <th>7</th>\n",
              "      <td>0.006532</td>\n",
              "      <td>0.005003</td>\n",
              "      <td>0.87</td>\n",
              "      <td>0.880000</td>\n",
              "      <td>0.890405</td>\n",
              "      <td>0.939992</td>\n",
              "    </tr>\n",
              "    <tr>\n",
              "      <th>8</th>\n",
              "      <td>0.004055</td>\n",
              "      <td>0.004431</td>\n",
              "      <td>0.90</td>\n",
              "      <td>0.870000</td>\n",
              "      <td>0.961851</td>\n",
              "      <td>0.932240</td>\n",
              "    </tr>\n",
              "    <tr>\n",
              "      <th>9</th>\n",
              "      <td>0.009408</td>\n",
              "      <td>0.004527</td>\n",
              "      <td>0.86</td>\n",
              "      <td>0.876667</td>\n",
              "      <td>0.958788</td>\n",
              "      <td>0.932327</td>\n",
              "    </tr>\n",
              "  </tbody>\n",
              "</table>\n",
              "</div>\n",
              "    <div class=\"colab-df-buttons\">\n",
              "\n",
              "  <div class=\"colab-df-container\">\n",
              "    <button class=\"colab-df-convert\" onclick=\"convertToInteractive('df-812a3793-2d40-4461-b464-d6233c3fe116')\"\n",
              "            title=\"Convert this dataframe to an interactive table.\"\n",
              "            style=\"display:none;\">\n",
              "\n",
              "  <svg xmlns=\"http://www.w3.org/2000/svg\" height=\"24px\" viewBox=\"0 -960 960 960\">\n",
              "    <path d=\"M120-120v-720h720v720H120Zm60-500h600v-160H180v160Zm220 220h160v-160H400v160Zm0 220h160v-160H400v160ZM180-400h160v-160H180v160Zm440 0h160v-160H620v160ZM180-180h160v-160H180v160Zm440 0h160v-160H620v160Z\"/>\n",
              "  </svg>\n",
              "    </button>\n",
              "\n",
              "  <style>\n",
              "    .colab-df-container {\n",
              "      display:flex;\n",
              "      gap: 12px;\n",
              "    }\n",
              "\n",
              "    .colab-df-convert {\n",
              "      background-color: #E8F0FE;\n",
              "      border: none;\n",
              "      border-radius: 50%;\n",
              "      cursor: pointer;\n",
              "      display: none;\n",
              "      fill: #1967D2;\n",
              "      height: 32px;\n",
              "      padding: 0 0 0 0;\n",
              "      width: 32px;\n",
              "    }\n",
              "\n",
              "    .colab-df-convert:hover {\n",
              "      background-color: #E2EBFA;\n",
              "      box-shadow: 0px 1px 2px rgba(60, 64, 67, 0.3), 0px 1px 3px 1px rgba(60, 64, 67, 0.15);\n",
              "      fill: #174EA6;\n",
              "    }\n",
              "\n",
              "    .colab-df-buttons div {\n",
              "      margin-bottom: 4px;\n",
              "    }\n",
              "\n",
              "    [theme=dark] .colab-df-convert {\n",
              "      background-color: #3B4455;\n",
              "      fill: #D2E3FC;\n",
              "    }\n",
              "\n",
              "    [theme=dark] .colab-df-convert:hover {\n",
              "      background-color: #434B5C;\n",
              "      box-shadow: 0px 1px 3px 1px rgba(0, 0, 0, 0.15);\n",
              "      filter: drop-shadow(0px 1px 2px rgba(0, 0, 0, 0.3));\n",
              "      fill: #FFFFFF;\n",
              "    }\n",
              "  </style>\n",
              "\n",
              "    <script>\n",
              "      const buttonEl =\n",
              "        document.querySelector('#df-812a3793-2d40-4461-b464-d6233c3fe116 button.colab-df-convert');\n",
              "      buttonEl.style.display =\n",
              "        google.colab.kernel.accessAllowed ? 'block' : 'none';\n",
              "\n",
              "      async function convertToInteractive(key) {\n",
              "        const element = document.querySelector('#df-812a3793-2d40-4461-b464-d6233c3fe116');\n",
              "        const dataTable =\n",
              "          await google.colab.kernel.invokeFunction('convertToInteractive',\n",
              "                                                    [key], {});\n",
              "        if (!dataTable) return;\n",
              "\n",
              "        const docLinkHtml = 'Like what you see? Visit the ' +\n",
              "          '<a target=\"_blank\" href=https://colab.research.google.com/notebooks/data_table.ipynb>data table notebook</a>'\n",
              "          + ' to learn more about interactive tables.';\n",
              "        element.innerHTML = '';\n",
              "        dataTable['output_type'] = 'display_data';\n",
              "        await google.colab.output.renderOutput(dataTable, element);\n",
              "        const docLink = document.createElement('div');\n",
              "        docLink.innerHTML = docLinkHtml;\n",
              "        element.appendChild(docLink);\n",
              "      }\n",
              "    </script>\n",
              "  </div>\n",
              "\n",
              "\n",
              "<div id=\"df-002b7516-1609-4262-a518-5245e2a8a084\">\n",
              "  <button class=\"colab-df-quickchart\" onclick=\"quickchart('df-002b7516-1609-4262-a518-5245e2a8a084')\"\n",
              "            title=\"Suggest charts\"\n",
              "            style=\"display:none;\">\n",
              "\n",
              "<svg xmlns=\"http://www.w3.org/2000/svg\" height=\"24px\"viewBox=\"0 0 24 24\"\n",
              "     width=\"24px\">\n",
              "    <g>\n",
              "        <path d=\"M19 3H5c-1.1 0-2 .9-2 2v14c0 1.1.9 2 2 2h14c1.1 0 2-.9 2-2V5c0-1.1-.9-2-2-2zM9 17H7v-7h2v7zm4 0h-2V7h2v10zm4 0h-2v-4h2v4z\"/>\n",
              "    </g>\n",
              "</svg>\n",
              "  </button>\n",
              "\n",
              "<style>\n",
              "  .colab-df-quickchart {\n",
              "      --bg-color: #E8F0FE;\n",
              "      --fill-color: #1967D2;\n",
              "      --hover-bg-color: #E2EBFA;\n",
              "      --hover-fill-color: #174EA6;\n",
              "      --disabled-fill-color: #AAA;\n",
              "      --disabled-bg-color: #DDD;\n",
              "  }\n",
              "\n",
              "  [theme=dark] .colab-df-quickchart {\n",
              "      --bg-color: #3B4455;\n",
              "      --fill-color: #D2E3FC;\n",
              "      --hover-bg-color: #434B5C;\n",
              "      --hover-fill-color: #FFFFFF;\n",
              "      --disabled-bg-color: #3B4455;\n",
              "      --disabled-fill-color: #666;\n",
              "  }\n",
              "\n",
              "  .colab-df-quickchart {\n",
              "    background-color: var(--bg-color);\n",
              "    border: none;\n",
              "    border-radius: 50%;\n",
              "    cursor: pointer;\n",
              "    display: none;\n",
              "    fill: var(--fill-color);\n",
              "    height: 32px;\n",
              "    padding: 0;\n",
              "    width: 32px;\n",
              "  }\n",
              "\n",
              "  .colab-df-quickchart:hover {\n",
              "    background-color: var(--hover-bg-color);\n",
              "    box-shadow: 0 1px 2px rgba(60, 64, 67, 0.3), 0 1px 3px 1px rgba(60, 64, 67, 0.15);\n",
              "    fill: var(--button-hover-fill-color);\n",
              "  }\n",
              "\n",
              "  .colab-df-quickchart-complete:disabled,\n",
              "  .colab-df-quickchart-complete:disabled:hover {\n",
              "    background-color: var(--disabled-bg-color);\n",
              "    fill: var(--disabled-fill-color);\n",
              "    box-shadow: none;\n",
              "  }\n",
              "\n",
              "  .colab-df-spinner {\n",
              "    border: 2px solid var(--fill-color);\n",
              "    border-color: transparent;\n",
              "    border-bottom-color: var(--fill-color);\n",
              "    animation:\n",
              "      spin 1s steps(1) infinite;\n",
              "  }\n",
              "\n",
              "  @keyframes spin {\n",
              "    0% {\n",
              "      border-color: transparent;\n",
              "      border-bottom-color: var(--fill-color);\n",
              "      border-left-color: var(--fill-color);\n",
              "    }\n",
              "    20% {\n",
              "      border-color: transparent;\n",
              "      border-left-color: var(--fill-color);\n",
              "      border-top-color: var(--fill-color);\n",
              "    }\n",
              "    30% {\n",
              "      border-color: transparent;\n",
              "      border-left-color: var(--fill-color);\n",
              "      border-top-color: var(--fill-color);\n",
              "      border-right-color: var(--fill-color);\n",
              "    }\n",
              "    40% {\n",
              "      border-color: transparent;\n",
              "      border-right-color: var(--fill-color);\n",
              "      border-top-color: var(--fill-color);\n",
              "    }\n",
              "    60% {\n",
              "      border-color: transparent;\n",
              "      border-right-color: var(--fill-color);\n",
              "    }\n",
              "    80% {\n",
              "      border-color: transparent;\n",
              "      border-right-color: var(--fill-color);\n",
              "      border-bottom-color: var(--fill-color);\n",
              "    }\n",
              "    90% {\n",
              "      border-color: transparent;\n",
              "      border-bottom-color: var(--fill-color);\n",
              "    }\n",
              "  }\n",
              "</style>\n",
              "\n",
              "  <script>\n",
              "    async function quickchart(key) {\n",
              "      const quickchartButtonEl =\n",
              "        document.querySelector('#' + key + ' button');\n",
              "      quickchartButtonEl.disabled = true;  // To prevent multiple clicks.\n",
              "      quickchartButtonEl.classList.add('colab-df-spinner');\n",
              "      try {\n",
              "        const charts = await google.colab.kernel.invokeFunction(\n",
              "            'suggestCharts', [key], {});\n",
              "      } catch (error) {\n",
              "        console.error('Error during call to suggestCharts:', error);\n",
              "      }\n",
              "      quickchartButtonEl.classList.remove('colab-df-spinner');\n",
              "      quickchartButtonEl.classList.add('colab-df-quickchart-complete');\n",
              "    }\n",
              "    (() => {\n",
              "      let quickchartButtonEl =\n",
              "        document.querySelector('#df-002b7516-1609-4262-a518-5245e2a8a084 button');\n",
              "      quickchartButtonEl.style.display =\n",
              "        google.colab.kernel.accessAllowed ? 'block' : 'none';\n",
              "    })();\n",
              "  </script>\n",
              "</div>\n",
              "\n",
              "  <div id=\"id_776b04d5-e97c-40f2-8240-933b15571060\">\n",
              "    <style>\n",
              "      .colab-df-generate {\n",
              "        background-color: #E8F0FE;\n",
              "        border: none;\n",
              "        border-radius: 50%;\n",
              "        cursor: pointer;\n",
              "        display: none;\n",
              "        fill: #1967D2;\n",
              "        height: 32px;\n",
              "        padding: 0 0 0 0;\n",
              "        width: 32px;\n",
              "      }\n",
              "\n",
              "      .colab-df-generate:hover {\n",
              "        background-color: #E2EBFA;\n",
              "        box-shadow: 0px 1px 2px rgba(60, 64, 67, 0.3), 0px 1px 3px 1px rgba(60, 64, 67, 0.15);\n",
              "        fill: #174EA6;\n",
              "      }\n",
              "\n",
              "      [theme=dark] .colab-df-generate {\n",
              "        background-color: #3B4455;\n",
              "        fill: #D2E3FC;\n",
              "      }\n",
              "\n",
              "      [theme=dark] .colab-df-generate:hover {\n",
              "        background-color: #434B5C;\n",
              "        box-shadow: 0px 1px 3px 1px rgba(0, 0, 0, 0.15);\n",
              "        filter: drop-shadow(0px 1px 2px rgba(0, 0, 0, 0.3));\n",
              "        fill: #FFFFFF;\n",
              "      }\n",
              "    </style>\n",
              "    <button class=\"colab-df-generate\" onclick=\"generateWithVariable('results')\"\n",
              "            title=\"Generate code using this dataframe.\"\n",
              "            style=\"display:none;\">\n",
              "\n",
              "  <svg xmlns=\"http://www.w3.org/2000/svg\" height=\"24px\"viewBox=\"0 0 24 24\"\n",
              "       width=\"24px\">\n",
              "    <path d=\"M7,19H8.4L18.45,9,17,7.55,7,17.6ZM5,21V16.75L18.45,3.32a2,2,0,0,1,2.83,0l1.4,1.43a1.91,1.91,0,0,1,.58,1.4,1.91,1.91,0,0,1-.58,1.4L9.25,21ZM18.45,9,17,7.55Zm-12,3A5.31,5.31,0,0,0,4.9,8.1,5.31,5.31,0,0,0,1,6.5,5.31,5.31,0,0,0,4.9,4.9,5.31,5.31,0,0,0,6.5,1,5.31,5.31,0,0,0,8.1,4.9,5.31,5.31,0,0,0,12,6.5,5.46,5.46,0,0,0,6.5,12Z\"/>\n",
              "  </svg>\n",
              "    </button>\n",
              "    <script>\n",
              "      (() => {\n",
              "      const buttonEl =\n",
              "        document.querySelector('#id_776b04d5-e97c-40f2-8240-933b15571060 button.colab-df-generate');\n",
              "      buttonEl.style.display =\n",
              "        google.colab.kernel.accessAllowed ? 'block' : 'none';\n",
              "\n",
              "      buttonEl.onclick = () => {\n",
              "        google.colab.notebook.generateWithVariable('results');\n",
              "      }\n",
              "      })();\n",
              "    </script>\n",
              "  </div>\n",
              "\n",
              "    </div>\n",
              "  </div>\n"
            ],
            "application/vnd.google.colaboratory.intrinsic+json": {
              "type": "dataframe",
              "variable_name": "results",
              "summary": "{\n  \"name\": \"results\",\n  \"rows\": 10,\n  \"fields\": [\n    {\n      \"column\": \"fit_time\",\n      \"properties\": {\n        \"dtype\": \"number\",\n        \"std\": 0.0026829973900082842,\n        \"min\": 0.004015445709228516,\n        \"max\": 0.011337518692016602,\n        \"num_unique_values\": 10,\n        \"samples\": [\n          0.0040547847747802734,\n          0.004352092742919922,\n          0.00410151481628418\n        ],\n        \"semantic_type\": \"\",\n        \"description\": \"\"\n      }\n    },\n    {\n      \"column\": \"score_time\",\n      \"properties\": {\n        \"dtype\": \"number\",\n        \"std\": 0.0004688404375084053,\n        \"min\": 0.004012107849121094,\n        \"max\": 0.0054950714111328125,\n        \"num_unique_values\": 10,\n        \"samples\": [\n          0.004431009292602539,\n          0.00508880615234375,\n          0.004143714904785156\n        ],\n        \"semantic_type\": \"\",\n        \"description\": \"\"\n      }\n    },\n    {\n      \"column\": \"test_accuracy\",\n      \"properties\": {\n        \"dtype\": \"number\",\n        \"std\": 0.02002775851439975,\n        \"min\": 0.83,\n        \"max\": 0.9,\n        \"num_unique_values\": 7,\n        \"samples\": [\n          0.87,\n          0.86,\n          0.85\n        ],\n        \"semantic_type\": \"\",\n        \"description\": \"\"\n      }\n    },\n    {\n      \"column\": \"train_accuracy\",\n      \"properties\": {\n        \"dtype\": \"number\",\n        \"std\": 0.004132576593411357,\n        \"min\": 0.87,\n        \"max\": 0.8833333333333333,\n        \"num_unique_values\": 8,\n        \"samples\": [\n          0.88,\n          0.8766666666666667,\n          0.8744444444444445\n        ],\n        \"semantic_type\": \"\",\n        \"description\": \"\"\n      }\n    },\n    {\n      \"column\": \"test_roc_auc\",\n      \"properties\": {\n        \"dtype\": \"number\",\n        \"std\": 0.025246068868239237,\n        \"min\": 0.890405459654757,\n        \"max\": 0.9618506493506493,\n        \"num_unique_values\": 10,\n        \"samples\": [\n          0.9618506493506493,\n          0.9262499999999999,\n          0.939381774387796\n        ],\n        \"semantic_type\": \"\",\n        \"description\": \"\"\n      }\n    },\n    {\n      \"column\": \"train_roc_auc\",\n      \"properties\": {\n        \"dtype\": \"number\",\n        \"std\": 0.0027948862633211807,\n        \"min\": 0.9322398055950688,\n        \"max\": 0.9399923947237161,\n        \"num_unique_values\": 10,\n        \"samples\": [\n          0.9322398055950688,\n          0.9368280632411068,\n          0.9343032529840831\n        ],\n        \"semantic_type\": \"\",\n        \"description\": \"\"\n      }\n    }\n  ]\n}"
            }
          },
          "metadata": {},
          "execution_count": 16
        }
      ],
      "source": [
        "# info for each split\n",
        "results = pd.DataFrame(\n",
        "    sklearn.model_selection.cross_validate(model, X, y, cv=cv,\n",
        "                                           scoring=('accuracy','roc_auc'),\n",
        "                                           return_train_score=True)\n",
        "    )\n",
        "results"
      ]
    },
    {
      "cell_type": "code",
      "execution_count": null,
      "metadata": {
        "id": "rOG8yYkhGWtG",
        "outputId": "3d564554-674c-41ae-84e5-9e082e8af116",
        "colab": {
          "base_uri": "https://localhost:8080/"
        }
      },
      "outputs": [
        {
          "output_type": "stream",
          "name": "stdout",
          "text": [
            "Auroc: 0.9292, plus minus 0.0080\n",
            "Accuracy: 0.8670, plus minus 0.0063\n"
          ]
        }
      ],
      "source": [
        "print(f\"Auroc: {results.test_roc_auc.mean():.4f}, plus minus {np.sqrt(results.test_roc_auc.var()/len(results)):.4f}\")\n",
        "print(f\"Accuracy: {results.test_accuracy.mean():.4f}, plus minus {np.sqrt(results.test_accuracy.var()/len(results)):.4f}\")"
      ]
    },
    {
      "cell_type": "markdown",
      "metadata": {
        "id": "EhozS4sWGWtG"
      },
      "source": [
        "Note the results also include train performance (because we set `return_train_score=True`).  Can sometimes be interesting to see discrepancy between train and test performance.  Usually train performance is a bit better.  If train performance is *a lot* better your estimator may have \"too much flexibility\" (though sometimes you may also be experiencing so-called \"benign overfitting\" in which case your estimator is actually just fine...).  "
      ]
    },
    {
      "cell_type": "code",
      "execution_count": null,
      "metadata": {
        "id": "dA_OVFIVGWtG",
        "outputId": "3a267d31-0d01-469a-c4c8-6e57693fdf72",
        "colab": {
          "base_uri": "https://localhost:8080/"
        }
      },
      "outputs": [
        {
          "output_type": "stream",
          "name": "stdout",
          "text": [
            "Train auroc: 0.9357, plus minus 0.0009\n",
            "Train accuracy: 0.8772, plus minus 0.0013\n"
          ]
        }
      ],
      "source": [
        "print(f\"Train auroc: {results.train_roc_auc.mean():.4f}, plus minus {np.sqrt(results.train_roc_auc.var()/len(results)):.4f}\")\n",
        "print(f\"Train accuracy: {results.train_accuracy.mean():.4f}, plus minus {np.sqrt(results.train_accuracy.var()/len(results)):.4f}\")"
      ]
    },
    {
      "cell_type": "markdown",
      "metadata": {
        "id": "n59mem4LGWtG"
      },
      "source": [
        "# Compare with another estimator (using same splits!)"
      ]
    },
    {
      "cell_type": "code",
      "execution_count": null,
      "metadata": {
        "id": "KUBDR_gxGWtI",
        "outputId": "50ff7e9d-01f0-4874-c0e1-5e6525d0b4b8",
        "colab": {
          "base_uri": "https://localhost:8080/"
        }
      },
      "outputs": [
        {
          "output_type": "stream",
          "name": "stdout",
          "text": [
            "Mean Accuracy: 0.8120, plus minus 0.0110\n"
          ]
        }
      ],
      "source": [
        "model2 =  KNeighborsClassifier(5)\n",
        "scores2 = cross_val_score(model2, X, y, scoring='accuracy', cv=cv,n_jobs=-1) # note, using same folds, cv\n",
        "\n",
        "print(f\"Mean Accuracy: {scores2.mean():.4f}, plus minus {np.sqrt(scores2.var()/len(scores2)):.4f}\")"
      ]
    },
    {
      "cell_type": "markdown",
      "metadata": {
        "id": "wYt0NkEgGWtI"
      },
      "source": [
        "It seems that 5-NN is worse, by a margin that is well in excess of the spread."
      ]
    },
    {
      "cell_type": "markdown",
      "metadata": {
        "id": "DijycjR9GWtI"
      },
      "source": [
        "# Bias-variance tradeoff"
      ]
    },
    {
      "cell_type": "markdown",
      "metadata": {
        "id": "DBnSRZ65GWtI"
      },
      "source": [
        "It is very helpful to think about bias-variance tradeoff in cross-validation. In CV, the number of folds to use (the value of $k$) is an important decision. Imagine repeating the learning procedure on multiple datasets. The lower the value for $k$, the higher the bias in the error estimates and the less variance **across datasets**. Conversely, when $k$ is set equal to the training+val sample size, the error estimate is then very low in bias but has the possibility of high variance **across datasets**."
      ]
    },
    {
      "cell_type": "markdown",
      "metadata": {
        "id": "15khN27MGWtI"
      },
      "source": [
        "Why? Some intuitions (but not mathematically rigorous proof) here:"
      ]
    },
    {
      "cell_type": "markdown",
      "metadata": {
        "id": "AWe9Cyz2GWtY"
      },
      "source": [
        "While there is no overlap between the test sets on which the models are evaluated, there is overlap between the training sets for all $k>2$. The overlap is largest for leave-one-out cross-validation. This means that the learned models are correlated, i.e. dependent, and the variance of the sum of correlated variables increases with the amount of covariance:\n",
        "$\n",
        "Var(\\sum_i X_i) = \\sum_i \\sum_j Cov(X_i, X_j).\n",
        "$\n",
        "Therefore, leave-one-out cross-validation has large variance in comparison to CV with smaller $k$. To summarize, larger $k$ means less bias towards overestimating the true expected error (as training folds will be closer to the total dataset) but higher variance and higher running time (as you are getting closer to the limit case: Leave-One-Out CV)."
      ]
    },
    {
      "cell_type": "markdown",
      "metadata": {
        "id": "XvjArbI3GWtZ"
      },
      "source": [
        "For more fun facts and simulation about bias-variance tradeoff and cross validation, please see [this post](https://stats.stackexchange.com/questions/61783/bias-and-variance-in-leave-one-out-vs-k-fold-cross-validation/357749#357749)."
      ]
    },
    {
      "cell_type": "markdown",
      "source": [
        "# Group Work 5 (30 points)\n",
        "\n",
        "But WHY do we even bother with cross-validation? What is the point?\n",
        "\n",
        "In this group work assignment, you'll perform K-fold cross validation on several classification models on the NHANES dataset. Additionally, you will be asked to write answers to explain WHY we do the things we do. Please feel free to ask instructors for guidance if cross-validation is still new to you."
      ],
      "metadata": {
        "id": "pdnTWktd2Eb6"
      }
    },
    {
      "cell_type": "markdown",
      "source": [
        "\n",
        "\n",
        "---\n",
        "\n",
        "\n",
        "### Part 1: Dataset Setup (1 point)\n",
        "\n",
        "Our favorite (and only) dataset we have used in the group work assignments is back! Please take the appropriate time to load in the 3 NHANES datasets."
      ],
      "metadata": {
        "id": "EvIGjZCn4NEh"
      }
    },
    {
      "cell_type": "code",
      "source": [
        "# df =\n",
        "bmx_df = pd.read_sas('BMX_L.xpt', format = 'xport')\n",
        "demo_df = pd.read_sas('DEMO_L.xpt', format = 'xport')\n",
        "hdl_df = pd.read_sas('HDL_L.xpt', format = 'xport')\n",
        "\n",
        "df = pd.merge(hdl_df, bmx_df, on = 'SEQN', how = \"inner\")\n",
        "df = pd.merge(df, demo_df, on = 'SEQN', how = \"inner\")\n",
        "df.head()"
      ],
      "metadata": {
        "id": "YKFat_55cQNE",
        "colab": {
          "base_uri": "https://localhost:8080/",
          "height": 253
        },
        "outputId": "d3075894-9b61-451d-cef2-874c5f789a13"
      },
      "execution_count": null,
      "outputs": [
        {
          "output_type": "execute_result",
          "data": {
            "text/plain": [
              "       SEQN       WTPH2YR  LBDHDD  LBDHDDSI  BMDSTATS  BMXWT  BMIWT  BMXRECUM  \\\n",
              "0  130378.0  56042.129410    45.0      1.16       1.0   86.9    NaN       NaN   \n",
              "1  130379.0  37435.705647    60.0      1.55       1.0  101.8    NaN       NaN   \n",
              "2  130380.0  85328.844519    49.0      1.27       1.0   69.4    NaN       NaN   \n",
              "3  130386.0  44526.214135    46.0      1.19       1.0   90.6    NaN       NaN   \n",
              "4  130387.0  22746.296353    42.0      1.09       1.0  103.5    NaN       NaN   \n",
              "\n",
              "   BMIRECUM  BMXHEAD  ...  DMDHRGND  DMDHRAGZ  DMDHREDZ  DMDHRMAZ  DMDHSEDZ  \\\n",
              "0       NaN      NaN  ...       NaN       NaN       NaN       NaN       NaN   \n",
              "1       NaN      NaN  ...       NaN       NaN       NaN       NaN       NaN   \n",
              "2       NaN      NaN  ...       NaN       NaN       NaN       NaN       NaN   \n",
              "3       NaN      NaN  ...       NaN       NaN       NaN       NaN       NaN   \n",
              "4       NaN      NaN  ...       NaN       NaN       NaN       NaN       NaN   \n",
              "\n",
              "       WTINT2YR      WTMEC2YR  SDMVSTRA  SDMVPSU  INDFMPIR  \n",
              "0  50055.450807  54374.463898     173.0      2.0      5.00  \n",
              "1  29087.450605  34084.721548     173.0      2.0      5.00  \n",
              "2  80062.674301  81196.277992     174.0      1.0      1.41  \n",
              "3  30995.282610  39988.452940     179.0      1.0      1.33  \n",
              "4  19896.970559  20776.254850     181.0      1.0      1.32  \n",
              "\n",
              "[5 rows x 51 columns]"
            ],
            "text/html": [
              "\n",
              "  <div id=\"df-f61e0706-036b-48a9-ad99-e7253db07d39\" class=\"colab-df-container\">\n",
              "    <div>\n",
              "<style scoped>\n",
              "    .dataframe tbody tr th:only-of-type {\n",
              "        vertical-align: middle;\n",
              "    }\n",
              "\n",
              "    .dataframe tbody tr th {\n",
              "        vertical-align: top;\n",
              "    }\n",
              "\n",
              "    .dataframe thead th {\n",
              "        text-align: right;\n",
              "    }\n",
              "</style>\n",
              "<table border=\"1\" class=\"dataframe\">\n",
              "  <thead>\n",
              "    <tr style=\"text-align: right;\">\n",
              "      <th></th>\n",
              "      <th>SEQN</th>\n",
              "      <th>WTPH2YR</th>\n",
              "      <th>LBDHDD</th>\n",
              "      <th>LBDHDDSI</th>\n",
              "      <th>BMDSTATS</th>\n",
              "      <th>BMXWT</th>\n",
              "      <th>BMIWT</th>\n",
              "      <th>BMXRECUM</th>\n",
              "      <th>BMIRECUM</th>\n",
              "      <th>BMXHEAD</th>\n",
              "      <th>...</th>\n",
              "      <th>DMDHRGND</th>\n",
              "      <th>DMDHRAGZ</th>\n",
              "      <th>DMDHREDZ</th>\n",
              "      <th>DMDHRMAZ</th>\n",
              "      <th>DMDHSEDZ</th>\n",
              "      <th>WTINT2YR</th>\n",
              "      <th>WTMEC2YR</th>\n",
              "      <th>SDMVSTRA</th>\n",
              "      <th>SDMVPSU</th>\n",
              "      <th>INDFMPIR</th>\n",
              "    </tr>\n",
              "  </thead>\n",
              "  <tbody>\n",
              "    <tr>\n",
              "      <th>0</th>\n",
              "      <td>130378.0</td>\n",
              "      <td>56042.129410</td>\n",
              "      <td>45.0</td>\n",
              "      <td>1.16</td>\n",
              "      <td>1.0</td>\n",
              "      <td>86.9</td>\n",
              "      <td>NaN</td>\n",
              "      <td>NaN</td>\n",
              "      <td>NaN</td>\n",
              "      <td>NaN</td>\n",
              "      <td>...</td>\n",
              "      <td>NaN</td>\n",
              "      <td>NaN</td>\n",
              "      <td>NaN</td>\n",
              "      <td>NaN</td>\n",
              "      <td>NaN</td>\n",
              "      <td>50055.450807</td>\n",
              "      <td>54374.463898</td>\n",
              "      <td>173.0</td>\n",
              "      <td>2.0</td>\n",
              "      <td>5.00</td>\n",
              "    </tr>\n",
              "    <tr>\n",
              "      <th>1</th>\n",
              "      <td>130379.0</td>\n",
              "      <td>37435.705647</td>\n",
              "      <td>60.0</td>\n",
              "      <td>1.55</td>\n",
              "      <td>1.0</td>\n",
              "      <td>101.8</td>\n",
              "      <td>NaN</td>\n",
              "      <td>NaN</td>\n",
              "      <td>NaN</td>\n",
              "      <td>NaN</td>\n",
              "      <td>...</td>\n",
              "      <td>NaN</td>\n",
              "      <td>NaN</td>\n",
              "      <td>NaN</td>\n",
              "      <td>NaN</td>\n",
              "      <td>NaN</td>\n",
              "      <td>29087.450605</td>\n",
              "      <td>34084.721548</td>\n",
              "      <td>173.0</td>\n",
              "      <td>2.0</td>\n",
              "      <td>5.00</td>\n",
              "    </tr>\n",
              "    <tr>\n",
              "      <th>2</th>\n",
              "      <td>130380.0</td>\n",
              "      <td>85328.844519</td>\n",
              "      <td>49.0</td>\n",
              "      <td>1.27</td>\n",
              "      <td>1.0</td>\n",
              "      <td>69.4</td>\n",
              "      <td>NaN</td>\n",
              "      <td>NaN</td>\n",
              "      <td>NaN</td>\n",
              "      <td>NaN</td>\n",
              "      <td>...</td>\n",
              "      <td>NaN</td>\n",
              "      <td>NaN</td>\n",
              "      <td>NaN</td>\n",
              "      <td>NaN</td>\n",
              "      <td>NaN</td>\n",
              "      <td>80062.674301</td>\n",
              "      <td>81196.277992</td>\n",
              "      <td>174.0</td>\n",
              "      <td>1.0</td>\n",
              "      <td>1.41</td>\n",
              "    </tr>\n",
              "    <tr>\n",
              "      <th>3</th>\n",
              "      <td>130386.0</td>\n",
              "      <td>44526.214135</td>\n",
              "      <td>46.0</td>\n",
              "      <td>1.19</td>\n",
              "      <td>1.0</td>\n",
              "      <td>90.6</td>\n",
              "      <td>NaN</td>\n",
              "      <td>NaN</td>\n",
              "      <td>NaN</td>\n",
              "      <td>NaN</td>\n",
              "      <td>...</td>\n",
              "      <td>NaN</td>\n",
              "      <td>NaN</td>\n",
              "      <td>NaN</td>\n",
              "      <td>NaN</td>\n",
              "      <td>NaN</td>\n",
              "      <td>30995.282610</td>\n",
              "      <td>39988.452940</td>\n",
              "      <td>179.0</td>\n",
              "      <td>1.0</td>\n",
              "      <td>1.33</td>\n",
              "    </tr>\n",
              "    <tr>\n",
              "      <th>4</th>\n",
              "      <td>130387.0</td>\n",
              "      <td>22746.296353</td>\n",
              "      <td>42.0</td>\n",
              "      <td>1.09</td>\n",
              "      <td>1.0</td>\n",
              "      <td>103.5</td>\n",
              "      <td>NaN</td>\n",
              "      <td>NaN</td>\n",
              "      <td>NaN</td>\n",
              "      <td>NaN</td>\n",
              "      <td>...</td>\n",
              "      <td>NaN</td>\n",
              "      <td>NaN</td>\n",
              "      <td>NaN</td>\n",
              "      <td>NaN</td>\n",
              "      <td>NaN</td>\n",
              "      <td>19896.970559</td>\n",
              "      <td>20776.254850</td>\n",
              "      <td>181.0</td>\n",
              "      <td>1.0</td>\n",
              "      <td>1.32</td>\n",
              "    </tr>\n",
              "  </tbody>\n",
              "</table>\n",
              "<p>5 rows × 51 columns</p>\n",
              "</div>\n",
              "    <div class=\"colab-df-buttons\">\n",
              "\n",
              "  <div class=\"colab-df-container\">\n",
              "    <button class=\"colab-df-convert\" onclick=\"convertToInteractive('df-f61e0706-036b-48a9-ad99-e7253db07d39')\"\n",
              "            title=\"Convert this dataframe to an interactive table.\"\n",
              "            style=\"display:none;\">\n",
              "\n",
              "  <svg xmlns=\"http://www.w3.org/2000/svg\" height=\"24px\" viewBox=\"0 -960 960 960\">\n",
              "    <path d=\"M120-120v-720h720v720H120Zm60-500h600v-160H180v160Zm220 220h160v-160H400v160Zm0 220h160v-160H400v160ZM180-400h160v-160H180v160Zm440 0h160v-160H620v160ZM180-180h160v-160H180v160Zm440 0h160v-160H620v160Z\"/>\n",
              "  </svg>\n",
              "    </button>\n",
              "\n",
              "  <style>\n",
              "    .colab-df-container {\n",
              "      display:flex;\n",
              "      gap: 12px;\n",
              "    }\n",
              "\n",
              "    .colab-df-convert {\n",
              "      background-color: #E8F0FE;\n",
              "      border: none;\n",
              "      border-radius: 50%;\n",
              "      cursor: pointer;\n",
              "      display: none;\n",
              "      fill: #1967D2;\n",
              "      height: 32px;\n",
              "      padding: 0 0 0 0;\n",
              "      width: 32px;\n",
              "    }\n",
              "\n",
              "    .colab-df-convert:hover {\n",
              "      background-color: #E2EBFA;\n",
              "      box-shadow: 0px 1px 2px rgba(60, 64, 67, 0.3), 0px 1px 3px 1px rgba(60, 64, 67, 0.15);\n",
              "      fill: #174EA6;\n",
              "    }\n",
              "\n",
              "    .colab-df-buttons div {\n",
              "      margin-bottom: 4px;\n",
              "    }\n",
              "\n",
              "    [theme=dark] .colab-df-convert {\n",
              "      background-color: #3B4455;\n",
              "      fill: #D2E3FC;\n",
              "    }\n",
              "\n",
              "    [theme=dark] .colab-df-convert:hover {\n",
              "      background-color: #434B5C;\n",
              "      box-shadow: 0px 1px 3px 1px rgba(0, 0, 0, 0.15);\n",
              "      filter: drop-shadow(0px 1px 2px rgba(0, 0, 0, 0.3));\n",
              "      fill: #FFFFFF;\n",
              "    }\n",
              "  </style>\n",
              "\n",
              "    <script>\n",
              "      const buttonEl =\n",
              "        document.querySelector('#df-f61e0706-036b-48a9-ad99-e7253db07d39 button.colab-df-convert');\n",
              "      buttonEl.style.display =\n",
              "        google.colab.kernel.accessAllowed ? 'block' : 'none';\n",
              "\n",
              "      async function convertToInteractive(key) {\n",
              "        const element = document.querySelector('#df-f61e0706-036b-48a9-ad99-e7253db07d39');\n",
              "        const dataTable =\n",
              "          await google.colab.kernel.invokeFunction('convertToInteractive',\n",
              "                                                    [key], {});\n",
              "        if (!dataTable) return;\n",
              "\n",
              "        const docLinkHtml = 'Like what you see? Visit the ' +\n",
              "          '<a target=\"_blank\" href=https://colab.research.google.com/notebooks/data_table.ipynb>data table notebook</a>'\n",
              "          + ' to learn more about interactive tables.';\n",
              "        element.innerHTML = '';\n",
              "        dataTable['output_type'] = 'display_data';\n",
              "        await google.colab.output.renderOutput(dataTable, element);\n",
              "        const docLink = document.createElement('div');\n",
              "        docLink.innerHTML = docLinkHtml;\n",
              "        element.appendChild(docLink);\n",
              "      }\n",
              "    </script>\n",
              "  </div>\n",
              "\n",
              "\n",
              "<div id=\"df-df827cdd-9172-4ccd-8187-dce5b139310f\">\n",
              "  <button class=\"colab-df-quickchart\" onclick=\"quickchart('df-df827cdd-9172-4ccd-8187-dce5b139310f')\"\n",
              "            title=\"Suggest charts\"\n",
              "            style=\"display:none;\">\n",
              "\n",
              "<svg xmlns=\"http://www.w3.org/2000/svg\" height=\"24px\"viewBox=\"0 0 24 24\"\n",
              "     width=\"24px\">\n",
              "    <g>\n",
              "        <path d=\"M19 3H5c-1.1 0-2 .9-2 2v14c0 1.1.9 2 2 2h14c1.1 0 2-.9 2-2V5c0-1.1-.9-2-2-2zM9 17H7v-7h2v7zm4 0h-2V7h2v10zm4 0h-2v-4h2v4z\"/>\n",
              "    </g>\n",
              "</svg>\n",
              "  </button>\n",
              "\n",
              "<style>\n",
              "  .colab-df-quickchart {\n",
              "      --bg-color: #E8F0FE;\n",
              "      --fill-color: #1967D2;\n",
              "      --hover-bg-color: #E2EBFA;\n",
              "      --hover-fill-color: #174EA6;\n",
              "      --disabled-fill-color: #AAA;\n",
              "      --disabled-bg-color: #DDD;\n",
              "  }\n",
              "\n",
              "  [theme=dark] .colab-df-quickchart {\n",
              "      --bg-color: #3B4455;\n",
              "      --fill-color: #D2E3FC;\n",
              "      --hover-bg-color: #434B5C;\n",
              "      --hover-fill-color: #FFFFFF;\n",
              "      --disabled-bg-color: #3B4455;\n",
              "      --disabled-fill-color: #666;\n",
              "  }\n",
              "\n",
              "  .colab-df-quickchart {\n",
              "    background-color: var(--bg-color);\n",
              "    border: none;\n",
              "    border-radius: 50%;\n",
              "    cursor: pointer;\n",
              "    display: none;\n",
              "    fill: var(--fill-color);\n",
              "    height: 32px;\n",
              "    padding: 0;\n",
              "    width: 32px;\n",
              "  }\n",
              "\n",
              "  .colab-df-quickchart:hover {\n",
              "    background-color: var(--hover-bg-color);\n",
              "    box-shadow: 0 1px 2px rgba(60, 64, 67, 0.3), 0 1px 3px 1px rgba(60, 64, 67, 0.15);\n",
              "    fill: var(--button-hover-fill-color);\n",
              "  }\n",
              "\n",
              "  .colab-df-quickchart-complete:disabled,\n",
              "  .colab-df-quickchart-complete:disabled:hover {\n",
              "    background-color: var(--disabled-bg-color);\n",
              "    fill: var(--disabled-fill-color);\n",
              "    box-shadow: none;\n",
              "  }\n",
              "\n",
              "  .colab-df-spinner {\n",
              "    border: 2px solid var(--fill-color);\n",
              "    border-color: transparent;\n",
              "    border-bottom-color: var(--fill-color);\n",
              "    animation:\n",
              "      spin 1s steps(1) infinite;\n",
              "  }\n",
              "\n",
              "  @keyframes spin {\n",
              "    0% {\n",
              "      border-color: transparent;\n",
              "      border-bottom-color: var(--fill-color);\n",
              "      border-left-color: var(--fill-color);\n",
              "    }\n",
              "    20% {\n",
              "      border-color: transparent;\n",
              "      border-left-color: var(--fill-color);\n",
              "      border-top-color: var(--fill-color);\n",
              "    }\n",
              "    30% {\n",
              "      border-color: transparent;\n",
              "      border-left-color: var(--fill-color);\n",
              "      border-top-color: var(--fill-color);\n",
              "      border-right-color: var(--fill-color);\n",
              "    }\n",
              "    40% {\n",
              "      border-color: transparent;\n",
              "      border-right-color: var(--fill-color);\n",
              "      border-top-color: var(--fill-color);\n",
              "    }\n",
              "    60% {\n",
              "      border-color: transparent;\n",
              "      border-right-color: var(--fill-color);\n",
              "    }\n",
              "    80% {\n",
              "      border-color: transparent;\n",
              "      border-right-color: var(--fill-color);\n",
              "      border-bottom-color: var(--fill-color);\n",
              "    }\n",
              "    90% {\n",
              "      border-color: transparent;\n",
              "      border-bottom-color: var(--fill-color);\n",
              "    }\n",
              "  }\n",
              "</style>\n",
              "\n",
              "  <script>\n",
              "    async function quickchart(key) {\n",
              "      const quickchartButtonEl =\n",
              "        document.querySelector('#' + key + ' button');\n",
              "      quickchartButtonEl.disabled = true;  // To prevent multiple clicks.\n",
              "      quickchartButtonEl.classList.add('colab-df-spinner');\n",
              "      try {\n",
              "        const charts = await google.colab.kernel.invokeFunction(\n",
              "            'suggestCharts', [key], {});\n",
              "      } catch (error) {\n",
              "        console.error('Error during call to suggestCharts:', error);\n",
              "      }\n",
              "      quickchartButtonEl.classList.remove('colab-df-spinner');\n",
              "      quickchartButtonEl.classList.add('colab-df-quickchart-complete');\n",
              "    }\n",
              "    (() => {\n",
              "      let quickchartButtonEl =\n",
              "        document.querySelector('#df-df827cdd-9172-4ccd-8187-dce5b139310f button');\n",
              "      quickchartButtonEl.style.display =\n",
              "        google.colab.kernel.accessAllowed ? 'block' : 'none';\n",
              "    })();\n",
              "  </script>\n",
              "</div>\n",
              "\n",
              "    </div>\n",
              "  </div>\n"
            ],
            "application/vnd.google.colaboratory.intrinsic+json": {
              "type": "dataframe",
              "variable_name": "df"
            }
          },
          "metadata": {},
          "execution_count": 12
        }
      ]
    },
    {
      "cell_type": "markdown",
      "source": [
        "\n",
        "\n",
        "---\n",
        "\n",
        "\n",
        "### Part 2: Variable Setup and Selection (3 points)\n",
        "\n",
        "For this problem, we will again try to predict individuals that have high-density lipoprotein (HDL) cholesterol of greater than 60. An HDL of 60 **mg/dL** or higher is often viewed as protective against heart disease—this is typically the level you’d like to aim for, if possible. For this task please do the following:\n",
        "\n",
        "1. Create the binary indicator variable. Also, use the following features for predictive purposes: Gender, Age, Weight, Height, BMI, WaistSize, Household Size, and Ethnicity. You may need to refer to the docs to figure out their variable names.\n",
        "\n",
        "\n",
        "\n",
        "*   [HDL_L](https://wwwn.cdc.gov/Nchs/Data/Nhanes/Public/2021/DataFiles/HDL_L.htm)\n",
        "*   [DEMO_L](https://wwwn.cdc.gov/Nchs/Data/Nhanes/Public/2021/DataFiles/DEMO_L.htm)\n",
        "*   [BMX_L](https://wwwn.cdc.gov/Nchs/Data/Nhanes/Public/2021/DataFiles/BMX_L.htm)\n",
        "\n",
        "\n",
        "\n",
        "2. **Please** change the variable names to be English-legible but still python variable style.\n",
        "\n",
        "3. Drop all missing values."
      ],
      "metadata": {
        "id": "9WJ_fjDtGpRV"
      }
    },
    {
      "cell_type": "code",
      "source": [
        "selected_columns = [\"LBDHDD\", \"RIAGENDR\", \"RIDAGEYR\", \"BMXWT\", \"BMXHT\", \"BMXBMI\", \"BMXWAIST\", \"DMDHHSIZ\", \"RIDRETH1\"]\n",
        "filtered_data = df[selected_columns].copy()\n",
        "my_df = filtered_data.rename(columns={\n",
        "    \"LBDHDD\": \"HDL\",\n",
        "    \"RIAGENDER\": \"Gender\",\n",
        "    \"RIDAGEYR\": \"Age\",\n",
        "    \"BMXWT\": \"Weight\",\n",
        "    \"BMXHT\": \"Height\",\n",
        "    \"BMXBMI\": \"BMI\",\n",
        "    \"BMXWAIST\": \"WaistSize\",\n",
        "    \"DMDHHSIZ\": \"HouseholdSize\",\n",
        "    \"RIDRETH1\": \"Ethnicity\"\n",
        "})\n",
        "my_df[\"HDL\"] = my_df[\"HDL\"] > 60.0\n",
        "my_df = my_df.rename(columns={\"HDL\": \"HDL>60\"})\n",
        "my_df = my_df.dropna()\n",
        "my_df.head()\n"
      ],
      "metadata": {
        "id": "z-1nqBIXGoPs",
        "colab": {
          "base_uri": "https://localhost:8080/",
          "height": 204
        },
        "outputId": "f23585e5-a878-447a-b6ab-6440b4940c15"
      },
      "execution_count": null,
      "outputs": [
        {
          "output_type": "execute_result",
          "data": {
            "text/plain": [
              "   HDL>60  RIAGENDR   Age  Weight  Height   BMI  WaistSize  HouseholdSize  \\\n",
              "0   False       1.0  43.0    86.9   179.5  27.0       98.3            4.0   \n",
              "1   False       1.0  66.0   101.8   174.2  33.5      114.7            2.0   \n",
              "2   False       2.0  44.0    69.4   152.9  29.7       93.5            7.0   \n",
              "3   False       1.0  34.0    90.6   173.3  30.2      106.1            3.0   \n",
              "4   False       2.0  68.0   103.5   155.9  42.6      122.0            1.0   \n",
              "\n",
              "   Ethnicity  \n",
              "0        5.0  \n",
              "1        3.0  \n",
              "2        2.0  \n",
              "3        1.0  \n",
              "4        3.0  "
            ],
            "text/html": [
              "\n",
              "  <div id=\"df-6fcf4004-6b1e-4e15-8873-454240cd3da7\" class=\"colab-df-container\">\n",
              "    <div>\n",
              "<style scoped>\n",
              "    .dataframe tbody tr th:only-of-type {\n",
              "        vertical-align: middle;\n",
              "    }\n",
              "\n",
              "    .dataframe tbody tr th {\n",
              "        vertical-align: top;\n",
              "    }\n",
              "\n",
              "    .dataframe thead th {\n",
              "        text-align: right;\n",
              "    }\n",
              "</style>\n",
              "<table border=\"1\" class=\"dataframe\">\n",
              "  <thead>\n",
              "    <tr style=\"text-align: right;\">\n",
              "      <th></th>\n",
              "      <th>HDL&gt;60</th>\n",
              "      <th>RIAGENDR</th>\n",
              "      <th>Age</th>\n",
              "      <th>Weight</th>\n",
              "      <th>Height</th>\n",
              "      <th>BMI</th>\n",
              "      <th>WaistSize</th>\n",
              "      <th>HouseholdSize</th>\n",
              "      <th>Ethnicity</th>\n",
              "    </tr>\n",
              "  </thead>\n",
              "  <tbody>\n",
              "    <tr>\n",
              "      <th>0</th>\n",
              "      <td>False</td>\n",
              "      <td>1.0</td>\n",
              "      <td>43.0</td>\n",
              "      <td>86.9</td>\n",
              "      <td>179.5</td>\n",
              "      <td>27.0</td>\n",
              "      <td>98.3</td>\n",
              "      <td>4.0</td>\n",
              "      <td>5.0</td>\n",
              "    </tr>\n",
              "    <tr>\n",
              "      <th>1</th>\n",
              "      <td>False</td>\n",
              "      <td>1.0</td>\n",
              "      <td>66.0</td>\n",
              "      <td>101.8</td>\n",
              "      <td>174.2</td>\n",
              "      <td>33.5</td>\n",
              "      <td>114.7</td>\n",
              "      <td>2.0</td>\n",
              "      <td>3.0</td>\n",
              "    </tr>\n",
              "    <tr>\n",
              "      <th>2</th>\n",
              "      <td>False</td>\n",
              "      <td>2.0</td>\n",
              "      <td>44.0</td>\n",
              "      <td>69.4</td>\n",
              "      <td>152.9</td>\n",
              "      <td>29.7</td>\n",
              "      <td>93.5</td>\n",
              "      <td>7.0</td>\n",
              "      <td>2.0</td>\n",
              "    </tr>\n",
              "    <tr>\n",
              "      <th>3</th>\n",
              "      <td>False</td>\n",
              "      <td>1.0</td>\n",
              "      <td>34.0</td>\n",
              "      <td>90.6</td>\n",
              "      <td>173.3</td>\n",
              "      <td>30.2</td>\n",
              "      <td>106.1</td>\n",
              "      <td>3.0</td>\n",
              "      <td>1.0</td>\n",
              "    </tr>\n",
              "    <tr>\n",
              "      <th>4</th>\n",
              "      <td>False</td>\n",
              "      <td>2.0</td>\n",
              "      <td>68.0</td>\n",
              "      <td>103.5</td>\n",
              "      <td>155.9</td>\n",
              "      <td>42.6</td>\n",
              "      <td>122.0</td>\n",
              "      <td>1.0</td>\n",
              "      <td>3.0</td>\n",
              "    </tr>\n",
              "  </tbody>\n",
              "</table>\n",
              "</div>\n",
              "    <div class=\"colab-df-buttons\">\n",
              "\n",
              "  <div class=\"colab-df-container\">\n",
              "    <button class=\"colab-df-convert\" onclick=\"convertToInteractive('df-6fcf4004-6b1e-4e15-8873-454240cd3da7')\"\n",
              "            title=\"Convert this dataframe to an interactive table.\"\n",
              "            style=\"display:none;\">\n",
              "\n",
              "  <svg xmlns=\"http://www.w3.org/2000/svg\" height=\"24px\" viewBox=\"0 -960 960 960\">\n",
              "    <path d=\"M120-120v-720h720v720H120Zm60-500h600v-160H180v160Zm220 220h160v-160H400v160Zm0 220h160v-160H400v160ZM180-400h160v-160H180v160Zm440 0h160v-160H620v160ZM180-180h160v-160H180v160Zm440 0h160v-160H620v160Z\"/>\n",
              "  </svg>\n",
              "    </button>\n",
              "\n",
              "  <style>\n",
              "    .colab-df-container {\n",
              "      display:flex;\n",
              "      gap: 12px;\n",
              "    }\n",
              "\n",
              "    .colab-df-convert {\n",
              "      background-color: #E8F0FE;\n",
              "      border: none;\n",
              "      border-radius: 50%;\n",
              "      cursor: pointer;\n",
              "      display: none;\n",
              "      fill: #1967D2;\n",
              "      height: 32px;\n",
              "      padding: 0 0 0 0;\n",
              "      width: 32px;\n",
              "    }\n",
              "\n",
              "    .colab-df-convert:hover {\n",
              "      background-color: #E2EBFA;\n",
              "      box-shadow: 0px 1px 2px rgba(60, 64, 67, 0.3), 0px 1px 3px 1px rgba(60, 64, 67, 0.15);\n",
              "      fill: #174EA6;\n",
              "    }\n",
              "\n",
              "    .colab-df-buttons div {\n",
              "      margin-bottom: 4px;\n",
              "    }\n",
              "\n",
              "    [theme=dark] .colab-df-convert {\n",
              "      background-color: #3B4455;\n",
              "      fill: #D2E3FC;\n",
              "    }\n",
              "\n",
              "    [theme=dark] .colab-df-convert:hover {\n",
              "      background-color: #434B5C;\n",
              "      box-shadow: 0px 1px 3px 1px rgba(0, 0, 0, 0.15);\n",
              "      filter: drop-shadow(0px 1px 2px rgba(0, 0, 0, 0.3));\n",
              "      fill: #FFFFFF;\n",
              "    }\n",
              "  </style>\n",
              "\n",
              "    <script>\n",
              "      const buttonEl =\n",
              "        document.querySelector('#df-6fcf4004-6b1e-4e15-8873-454240cd3da7 button.colab-df-convert');\n",
              "      buttonEl.style.display =\n",
              "        google.colab.kernel.accessAllowed ? 'block' : 'none';\n",
              "\n",
              "      async function convertToInteractive(key) {\n",
              "        const element = document.querySelector('#df-6fcf4004-6b1e-4e15-8873-454240cd3da7');\n",
              "        const dataTable =\n",
              "          await google.colab.kernel.invokeFunction('convertToInteractive',\n",
              "                                                    [key], {});\n",
              "        if (!dataTable) return;\n",
              "\n",
              "        const docLinkHtml = 'Like what you see? Visit the ' +\n",
              "          '<a target=\"_blank\" href=https://colab.research.google.com/notebooks/data_table.ipynb>data table notebook</a>'\n",
              "          + ' to learn more about interactive tables.';\n",
              "        element.innerHTML = '';\n",
              "        dataTable['output_type'] = 'display_data';\n",
              "        await google.colab.output.renderOutput(dataTable, element);\n",
              "        const docLink = document.createElement('div');\n",
              "        docLink.innerHTML = docLinkHtml;\n",
              "        element.appendChild(docLink);\n",
              "      }\n",
              "    </script>\n",
              "  </div>\n",
              "\n",
              "\n",
              "<div id=\"df-e9c7428f-54de-415e-854b-4626351b2177\">\n",
              "  <button class=\"colab-df-quickchart\" onclick=\"quickchart('df-e9c7428f-54de-415e-854b-4626351b2177')\"\n",
              "            title=\"Suggest charts\"\n",
              "            style=\"display:none;\">\n",
              "\n",
              "<svg xmlns=\"http://www.w3.org/2000/svg\" height=\"24px\"viewBox=\"0 0 24 24\"\n",
              "     width=\"24px\">\n",
              "    <g>\n",
              "        <path d=\"M19 3H5c-1.1 0-2 .9-2 2v14c0 1.1.9 2 2 2h14c1.1 0 2-.9 2-2V5c0-1.1-.9-2-2-2zM9 17H7v-7h2v7zm4 0h-2V7h2v10zm4 0h-2v-4h2v4z\"/>\n",
              "    </g>\n",
              "</svg>\n",
              "  </button>\n",
              "\n",
              "<style>\n",
              "  .colab-df-quickchart {\n",
              "      --bg-color: #E8F0FE;\n",
              "      --fill-color: #1967D2;\n",
              "      --hover-bg-color: #E2EBFA;\n",
              "      --hover-fill-color: #174EA6;\n",
              "      --disabled-fill-color: #AAA;\n",
              "      --disabled-bg-color: #DDD;\n",
              "  }\n",
              "\n",
              "  [theme=dark] .colab-df-quickchart {\n",
              "      --bg-color: #3B4455;\n",
              "      --fill-color: #D2E3FC;\n",
              "      --hover-bg-color: #434B5C;\n",
              "      --hover-fill-color: #FFFFFF;\n",
              "      --disabled-bg-color: #3B4455;\n",
              "      --disabled-fill-color: #666;\n",
              "  }\n",
              "\n",
              "  .colab-df-quickchart {\n",
              "    background-color: var(--bg-color);\n",
              "    border: none;\n",
              "    border-radius: 50%;\n",
              "    cursor: pointer;\n",
              "    display: none;\n",
              "    fill: var(--fill-color);\n",
              "    height: 32px;\n",
              "    padding: 0;\n",
              "    width: 32px;\n",
              "  }\n",
              "\n",
              "  .colab-df-quickchart:hover {\n",
              "    background-color: var(--hover-bg-color);\n",
              "    box-shadow: 0 1px 2px rgba(60, 64, 67, 0.3), 0 1px 3px 1px rgba(60, 64, 67, 0.15);\n",
              "    fill: var(--button-hover-fill-color);\n",
              "  }\n",
              "\n",
              "  .colab-df-quickchart-complete:disabled,\n",
              "  .colab-df-quickchart-complete:disabled:hover {\n",
              "    background-color: var(--disabled-bg-color);\n",
              "    fill: var(--disabled-fill-color);\n",
              "    box-shadow: none;\n",
              "  }\n",
              "\n",
              "  .colab-df-spinner {\n",
              "    border: 2px solid var(--fill-color);\n",
              "    border-color: transparent;\n",
              "    border-bottom-color: var(--fill-color);\n",
              "    animation:\n",
              "      spin 1s steps(1) infinite;\n",
              "  }\n",
              "\n",
              "  @keyframes spin {\n",
              "    0% {\n",
              "      border-color: transparent;\n",
              "      border-bottom-color: var(--fill-color);\n",
              "      border-left-color: var(--fill-color);\n",
              "    }\n",
              "    20% {\n",
              "      border-color: transparent;\n",
              "      border-left-color: var(--fill-color);\n",
              "      border-top-color: var(--fill-color);\n",
              "    }\n",
              "    30% {\n",
              "      border-color: transparent;\n",
              "      border-left-color: var(--fill-color);\n",
              "      border-top-color: var(--fill-color);\n",
              "      border-right-color: var(--fill-color);\n",
              "    }\n",
              "    40% {\n",
              "      border-color: transparent;\n",
              "      border-right-color: var(--fill-color);\n",
              "      border-top-color: var(--fill-color);\n",
              "    }\n",
              "    60% {\n",
              "      border-color: transparent;\n",
              "      border-right-color: var(--fill-color);\n",
              "    }\n",
              "    80% {\n",
              "      border-color: transparent;\n",
              "      border-right-color: var(--fill-color);\n",
              "      border-bottom-color: var(--fill-color);\n",
              "    }\n",
              "    90% {\n",
              "      border-color: transparent;\n",
              "      border-bottom-color: var(--fill-color);\n",
              "    }\n",
              "  }\n",
              "</style>\n",
              "\n",
              "  <script>\n",
              "    async function quickchart(key) {\n",
              "      const quickchartButtonEl =\n",
              "        document.querySelector('#' + key + ' button');\n",
              "      quickchartButtonEl.disabled = true;  // To prevent multiple clicks.\n",
              "      quickchartButtonEl.classList.add('colab-df-spinner');\n",
              "      try {\n",
              "        const charts = await google.colab.kernel.invokeFunction(\n",
              "            'suggestCharts', [key], {});\n",
              "      } catch (error) {\n",
              "        console.error('Error during call to suggestCharts:', error);\n",
              "      }\n",
              "      quickchartButtonEl.classList.remove('colab-df-spinner');\n",
              "      quickchartButtonEl.classList.add('colab-df-quickchart-complete');\n",
              "    }\n",
              "    (() => {\n",
              "      let quickchartButtonEl =\n",
              "        document.querySelector('#df-e9c7428f-54de-415e-854b-4626351b2177 button');\n",
              "      quickchartButtonEl.style.display =\n",
              "        google.colab.kernel.accessAllowed ? 'block' : 'none';\n",
              "    })();\n",
              "  </script>\n",
              "</div>\n",
              "\n",
              "    </div>\n",
              "  </div>\n"
            ],
            "application/vnd.google.colaboratory.intrinsic+json": {
              "type": "dataframe",
              "variable_name": "my_df",
              "summary": "{\n  \"name\": \"my_df\",\n  \"rows\": 7677,\n  \"fields\": [\n    {\n      \"column\": \"HDL>60\",\n      \"properties\": {\n        \"dtype\": \"boolean\",\n        \"num_unique_values\": 2,\n        \"samples\": [\n          true,\n          false\n        ],\n        \"semantic_type\": \"\",\n        \"description\": \"\"\n      }\n    },\n    {\n      \"column\": \"RIAGENDR\",\n      \"properties\": {\n        \"dtype\": \"number\",\n        \"std\": 0.4987241703645487,\n        \"min\": 1.0,\n        \"max\": 2.0,\n        \"num_unique_values\": 2,\n        \"samples\": [\n          2.0,\n          1.0\n        ],\n        \"semantic_type\": \"\",\n        \"description\": \"\"\n      }\n    },\n    {\n      \"column\": \"Age\",\n      \"properties\": {\n        \"dtype\": \"number\",\n        \"std\": 23.31045140752402,\n        \"min\": 6.0,\n        \"max\": 80.0,\n        \"num_unique_values\": 75,\n        \"samples\": [\n          68.0,\n          46.0\n        ],\n        \"semantic_type\": \"\",\n        \"description\": \"\"\n      }\n    },\n    {\n      \"column\": \"Weight\",\n      \"properties\": {\n        \"dtype\": \"number\",\n        \"std\": 25.782133428100522,\n        \"min\": 15.9,\n        \"max\": 248.2,\n        \"num_unique_values\": 1238,\n        \"samples\": [\n          131.2,\n          90.2\n        ],\n        \"semantic_type\": \"\",\n        \"description\": \"\"\n      }\n    },\n    {\n      \"column\": \"Height\",\n      \"properties\": {\n        \"dtype\": \"number\",\n        \"std\": 14.201013551077208,\n        \"min\": 106.6,\n        \"max\": 200.7,\n        \"num_unique_values\": 763,\n        \"samples\": [\n          154.2,\n          170.9\n        ],\n        \"semantic_type\": \"\",\n        \"description\": \"\"\n      }\n    },\n    {\n      \"column\": \"BMI\",\n      \"properties\": {\n        \"dtype\": \"number\",\n        \"std\": 7.720497717240124,\n        \"min\": 11.1,\n        \"max\": 69.9,\n        \"num_unique_values\": 433,\n        \"samples\": [\n          54.5,\n          25.3\n        ],\n        \"semantic_type\": \"\",\n        \"description\": \"\"\n      }\n    },\n    {\n      \"column\": \"WaistSize\",\n      \"properties\": {\n        \"dtype\": \"number\",\n        \"std\": 20.169601868391076,\n        \"min\": 44.3,\n        \"max\": 187.0,\n        \"num_unique_values\": 992,\n        \"samples\": [\n          109.5,\n          82.7\n        ],\n        \"semantic_type\": \"\",\n        \"description\": \"\"\n      }\n    },\n    {\n      \"column\": \"HouseholdSize\",\n      \"properties\": {\n        \"dtype\": \"number\",\n        \"std\": 1.6694680452439052,\n        \"min\": 1.0,\n        \"max\": 7.0,\n        \"num_unique_values\": 7,\n        \"samples\": [\n          4.0,\n          2.0\n        ],\n        \"semantic_type\": \"\",\n        \"description\": \"\"\n      }\n    },\n    {\n      \"column\": \"Ethnicity\",\n      \"properties\": {\n        \"dtype\": \"number\",\n        \"std\": 1.0470077418358514,\n        \"min\": 1.0,\n        \"max\": 5.0,\n        \"num_unique_values\": 5,\n        \"samples\": [\n          3.0,\n          4.0\n        ],\n        \"semantic_type\": \"\",\n        \"description\": \"\"\n      }\n    }\n  ]\n}"
            }
          },
          "metadata": {},
          "execution_count": 14
        }
      ]
    },
    {
      "cell_type": "code",
      "source": [
        "assert my_df.shape[0] / df.shape[0] > 0.95"
      ],
      "metadata": {
        "id": "Gjl1m1NRMtnC"
      },
      "execution_count": null,
      "outputs": []
    },
    {
      "cell_type": "markdown",
      "source": [
        "\n",
        "\n",
        "---\n",
        "\n",
        "\n",
        "### Part 3: Training + Testing Split (1 point)\n",
        "\n",
        "Please split your data into a train and test set, with 70% of observations in the train set and 30% in the test set.\n",
        "\n",
        "*   Please use the `train_test_split` method.\n",
        "*   Please use the `random_state=42`.\n",
        "*   Please stratify the sampling to include roughly the same distribution of response values in each set. [Why should we stratify?](https://scikit-learn.org/stable/modules/cross_validation.html#stratified-k-fold)\n"
      ],
      "metadata": {
        "id": "WC-LVV5xGzF_"
      }
    },
    {
      "cell_type": "code",
      "source": [
        "X = my_df.drop(columns=[\"HDL>60\"])\n",
        "y = my_df[\"HDL>60\"]\n",
        "\n",
        "X_train, X_test, y_train, y_test = train_test_split(X, y, test_size=0.3, random_state=42, stratify=y)"
      ],
      "metadata": {
        "id": "_vCJU906Q4JI"
      },
      "execution_count": null,
      "outputs": []
    },
    {
      "cell_type": "markdown",
      "source": [
        "\n",
        "\n",
        "---\n",
        "\n",
        "\n",
        "### Part 4: Implementing K-fold CV (2 points)\n",
        "\n",
        "Write a function called KFoldCV that takes in as input 4 arguments:\n",
        "\n",
        "1.   `X` The predictors array.\n",
        "2.   `y` The response variable array.\n",
        "3.   `model`: An sklearn model object on which we can call fit and predict.\n",
        "4.   `K`: An integer representing the number of folds we want to include.\n",
        "\n",
        "and returns the list of classification accuracies for each fold.\n",
        "\n"
      ],
      "metadata": {
        "id": "pann4vE5HrNy"
      }
    },
    {
      "cell_type": "code",
      "source": [
        "def KFoldCV(X, y, model, K=10):\n",
        "\n",
        "  cv = KFold(n_splits=K, random_state=42, shuffle=True)\n",
        "  scores = cross_val_score(model, X, y, scoring='accuracy', cv=cv, n_jobs=-1)\n",
        "  return scores"
      ],
      "metadata": {
        "id": "8FchjxtyzC2W"
      },
      "execution_count": null,
      "outputs": []
    },
    {
      "cell_type": "markdown",
      "source": [
        "\n",
        "\n",
        "---\n",
        "\n",
        "\n",
        "### Part 5 (Code): Execution (2 points)\n",
        "\n",
        "Run your KFoldCV function using Logistic Regression with $K=10$.\n",
        "\n",
        "Please ensure the that the output of the function is visible in the notebook.\n",
        "\n",
        "<u>Note</u>: In the event you get a warning that the model has not reached convergence, add the argument `max_iter=1000` to the LogisticRegression instance."
      ],
      "metadata": {
        "id": "zyow5PvI5AWk"
      }
    },
    {
      "cell_type": "code",
      "source": [
        "KFoldCV(X_train, y_train, LogisticRegression(max_iter=1000), 10)"
      ],
      "metadata": {
        "id": "AMOiomHb38eR",
        "colab": {
          "base_uri": "https://localhost:8080/"
        },
        "outputId": "0e8fe090-3208-4ee9-dd75-05f4e1c650ab"
      },
      "execution_count": null,
      "outputs": [
        {
          "output_type": "execute_result",
          "data": {
            "text/plain": [
              "array([0.7936803 , 0.76951673, 0.74349442, 0.79702048, 0.74674115,\n",
              "       0.7877095 , 0.80446927, 0.78212291, 0.79702048, 0.77839851])"
            ]
          },
          "metadata": {},
          "execution_count": 18
        }
      ]
    },
    {
      "cell_type": "markdown",
      "source": [
        "### Part 5 (Writing): Generalization (2 points)\n",
        "\n",
        "One motivation for cross-validation is to assess the generalizability of your model on unseen data.\n",
        "\n",
        "Explain in at most two sentences whether you believe your model generalizes well on unseen data. Reference the output of your function to make your case."
      ],
      "metadata": {
        "id": "L52D9v8m5Sbw"
      }
    },
    {
      "cell_type": "markdown",
      "source": [
        "**ANSWER:**\n",
        "\n",
        "I believe out model generalizes well on unseen data as we have similar results from each fold in the above case and for each fold, the accuracy seems relatively high and reasonable."
      ],
      "metadata": {
        "id": "YSVwHqDC6I3c"
      }
    },
    {
      "cell_type": "markdown",
      "source": [
        "\n",
        "\n",
        "---\n",
        "\n",
        "\n",
        "### Part 6 (Code): Working with Regularization (3 points)\n",
        "\n",
        "So turns out, if you look at the LogisticRegression module in sklearn, it uses an L2 penalty by default! You can see for yourself on the [documentation page for sklearn.linear_model.LogisticRegression](https://scikit-learn.org/stable/modules/generated/sklearn.linear_model.LogisticRegression.html).\n",
        "\n",
        "One problem, we just accepted the default regularization term: C=1.0. How do we know this was the right way to go? Let's see if it even is.\n",
        "\n",
        "Write a function that performs K-Fold validation but with each fold having a different value for $C$. The values considered should range be $10^{-5}, 10^{-4}, \\dots 10^{4}$."
      ],
      "metadata": {
        "id": "fUsRPM7w7uho"
      }
    },
    {
      "cell_type": "code",
      "source": [
        "from sklearn.metrics import accuracy_score\n",
        "# function returns dictionary\n",
        "def KFoldCV_L2(X, y, K=10) -> dict:\n",
        "    \"\"\"\n",
        "    Computes mean accuracy using KFold CV for several regularization values.\n",
        "\n",
        "    Returns:\n",
        "    dict: key-value pairs of regularization value and mean accuracy.\n",
        "    \"\"\"\n",
        "    results = {}\n",
        "    regularization_values = [1e-5, 1e-4, 1e-3, 1e-2, 1e-1, 1, 10, 100, 1000, 10000]\n",
        "    for i in range(len(regularization_values)):\n",
        "        cv = KFold(n_splits=K, random_state=42, shuffle=True)\n",
        "        model = LogisticRegression(C=regularization_values[i], max_iter=1000)\n",
        "        scores = cross_val_score(model, X, y, scoring='accuracy', cv=K, n_jobs=-1)\n",
        "        mean_accuracy = np.mean(scores)\n",
        "        results[regularization_values[i]] = mean_accuracy\n",
        "\n",
        "    return results"
      ],
      "metadata": {
        "id": "acjWMsC08n6g"
      },
      "execution_count": null,
      "outputs": []
    },
    {
      "cell_type": "code",
      "source": [
        "KFoldCV_L2(X_train, y_train)"
      ],
      "metadata": {
        "id": "Ebi7-MBlPm7-",
        "colab": {
          "base_uri": "https://localhost:8080/"
        },
        "outputId": "b7a43a4c-6fe3-4e89-f6b5-39f401e26c14"
      },
      "execution_count": null,
      "outputs": [
        {
          "output_type": "execute_result",
          "data": {
            "text/plain": [
              "{1e-05: 0.7712636636137706,\n",
              " 0.0001: 0.7740534983697119,\n",
              " 0.001: 0.777215772604238,\n",
              " 0.01: 0.7770302451316344,\n",
              " 0.1: 0.7796393982817942,\n",
              " 1: 0.7792669588032093,\n",
              " 10: 0.7794528324091573,\n",
              " 100: 0.7796390521484496,\n",
              " 1000: 0.7796390521484496,\n",
              " 10000: 0.7796390521484496}"
            ]
          },
          "metadata": {},
          "execution_count": 42
        }
      ]
    },
    {
      "cell_type": "markdown",
      "source": [
        "### Part 6 (Writing): Evaluation (2 points)\n",
        "\n",
        "Based on your cross-validation, do you believe that regularization plays an effect on the predictive accuracy on unseen accuracy? What level of regularization should we choose?"
      ],
      "metadata": {
        "id": "FU74AZejx6Sk"
      }
    },
    {
      "cell_type": "markdown",
      "source": [
        "**ANSWER:**\n",
        "\n",
        "$$\\boxed{\\textrm{\n",
        "### According to my output above, the regularization does have an effect on the predictive accuracy. Based on the output, we choose $c=0.1$ as the regularization level at which we get the highest mean accuracy.\n",
        "}}$$"
      ],
      "metadata": {
        "id": "unRDGKgNyIHl"
      }
    },
    {
      "cell_type": "markdown",
      "source": [
        "\n",
        "\n",
        "---\n",
        "\n",
        "\n",
        "### Part 7 (Code): Train+Val+Test (3 points)\n",
        "\n",
        "Please now retrain your final model (with the best regularization value you found in the last part) on all training data. Then, evaluate your model's performance on the test set."
      ],
      "metadata": {
        "id": "n8b5yqSEdg23"
      }
    },
    {
      "cell_type": "code",
      "source": [
        "best_C = 0.1\n",
        "new_model =LogisticRegression(C=best_C, max_iter=1000)\n",
        "new_model.fit(X_train, y_train)\n",
        "\n",
        "y_pred = new_model.predict(X_test)\n",
        "accuracy = accuracy_score(y_test, y_pred)\n",
        "print(f\"Accuracy: {accuracy}\")"
      ],
      "metadata": {
        "id": "xPCkVZyddgiG",
        "colab": {
          "base_uri": "https://localhost:8080/"
        },
        "outputId": "015e8193-a738-4ed9-9e3b-72178fe1be7b"
      },
      "execution_count": null,
      "outputs": [
        {
          "output_type": "stream",
          "name": "stdout",
          "text": [
            "Accuracy: 0.7907986111111112\n"
          ]
        }
      ]
    },
    {
      "cell_type": "markdown",
      "source": [
        "### Part 7 (Writing 1): Retraining on Training + Validation Data (1 point)\n",
        "\n",
        "Explain in 1-2 sentences **MAX** why we retrain the model on the merged train+val dataset."
      ],
      "metadata": {
        "id": "BJMmbhEOdCwo"
      }
    },
    {
      "cell_type": "markdown",
      "source": [
        "**ANSWER:**\n",
        "\n",
        "$$\\boxed{\\textrm{\n",
        "We retrain the model on the merged train+val dataset because it can utilize all available datasets to improve the model performance, while keeping the test completely independent for the final evaluation.\n",
        "}}$$"
      ],
      "metadata": {
        "id": "byQOSlhIdFoT"
      }
    },
    {
      "cell_type": "markdown",
      "source": [
        "### Part 7 (Writing 2): Evalution (1 point)\n",
        "\n",
        "Is logistic regression performing well on this data? Explain in 1-2 sentences **MAX**. **You may need some supporting code for your argument**.\n",
        "\n",
        "<u>Hint</u>: Think about what a trivial baseline would be."
      ],
      "metadata": {
        "id": "iJ8Ljlmhblfm"
      }
    },
    {
      "cell_type": "code",
      "source": [
        "baseline = max(np.mean(y_train), 1 - np.mean(y_train))\n",
        "print(f\"Baseline accuracy (predicting majority class): {baseline:.4f}\")\n",
        "print(f\"Logistic regression accuracy: {accuracy:.4f}\")"
      ],
      "metadata": {
        "id": "QGJtGu8ihLAO",
        "colab": {
          "base_uri": "https://localhost:8080/"
        },
        "outputId": "ac6007fe-3e32-44a4-e235-10a2727e1ad2"
      },
      "execution_count": null,
      "outputs": [
        {
          "output_type": "stream",
          "name": "stdout",
          "text": [
            "Baseline accuracy (predicting majority class): 0.7709\n",
            "Logistic regression accuracy: 0.7908\n"
          ]
        }
      ]
    },
    {
      "cell_type": "markdown",
      "source": [
        "**ANSWER:**\n",
        "\n",
        "$$\\boxed{\\textrm{\n",
        "Considering the benchmark accuracy rate about 77%, the logistic regression model reaches the accuracy 79%\n",
        "}}$$"
      ],
      "metadata": {
        "id": "xTtnNys5zIT6"
      }
    },
    {
      "cell_type": "markdown",
      "source": [
        "\n",
        "\n",
        "---\n",
        "\n",
        "\n",
        "### Part 8: K-Folds on K-Nearest Neighbors (2 points)\n",
        "\n",
        "Using your KFoldCV function you created in Part 4, please run CV on 2-NN classification."
      ],
      "metadata": {
        "id": "kzC6lrcw1Jif"
      }
    },
    {
      "cell_type": "code",
      "source": [
        "from sklearn.neighbors import KNeighborsClassifier\n",
        "knn_2 = KNeighborsClassifier(n_neighbors=2)\n",
        "knn_scores = KFoldCV(X_train, y_train, knn_2, 10)\n",
        "print(\"2-NN cross-validation scores:\", knn_scores)\n",
        "print(f\"Mean accuracy: {np.mean(knn_scores):.4f}\")"
      ],
      "metadata": {
        "id": "4XXDZvr81DJH",
        "colab": {
          "base_uri": "https://localhost:8080/"
        },
        "outputId": "5781a554-8c97-489f-d8d4-582956d4e86e"
      },
      "execution_count": null,
      "outputs": [
        {
          "output_type": "stream",
          "name": "stdout",
          "text": [
            "2-NN cross-validation scores: [0.75836431 0.77509294 0.73234201 0.77653631 0.72625698 0.77281192\n",
            " 0.77467412 0.75791434 0.76536313 0.74115456]\n",
            "Mean accuracy: 0.7581\n"
          ]
        }
      ]
    },
    {
      "cell_type": "markdown",
      "source": [
        "\n",
        "\n",
        "---\n",
        "\n",
        "\n",
        "### Part 9: Finding the Right K (4 points)\n",
        "\n",
        "Similar to what you did for regularized logistic regression, please run a 10-fold CV that assesses model performance on 10 different number of neighbors: [1, 3, 5, 10, 15, 20, 25, 35, 50, 100]. You should attempt to predict each fold with each num_neighbors value.\n",
        "\n",
        "Please write a function called `KFoldCV_NN` that takes as input `X`, `y`, and `K` and returns a dictionary. The dictionary should have the number of neighbors considered as keys and the mean validation accuracy as values.\n",
        "\n"
      ],
      "metadata": {
        "id": "GJiCr1iGjAb6"
      }
    },
    {
      "cell_type": "code",
      "source": [
        "def KFoldCV_NN(X, y, K=10):\n",
        "    \"\"\"\n",
        "    Computes mean accuracy using KFold CV for several K values.\n",
        "\n",
        "    Returns:\n",
        "    dict: key-value pairs of regularization value and mean accuracy.\n",
        "    \"\"\"\n",
        "    results = {}\n",
        "    neighbors = [1, 3, 5, 10, 15, 20, 25, 35, 50, 100]\n",
        "\n",
        "    for n in neighbors:\n",
        "        model = KNeighborsClassifier(n_neighbors=n)\n",
        "        scores = cross_val_score(model, X, y, cv=K, scoring='accuracy')\n",
        "        results[n] = np.mean(scores)\n",
        "\n",
        "    return results"
      ],
      "metadata": {
        "id": "RT-l5hrdM_og"
      },
      "execution_count": null,
      "outputs": []
    },
    {
      "cell_type": "code",
      "source": [
        "KFoldCV_NN(X_train, y_train)"
      ],
      "metadata": {
        "id": "wvDWQHQQNZ93",
        "colab": {
          "base_uri": "https://localhost:8080/"
        },
        "outputId": "2ab09c1e-0600-4a86-e14a-01a931956d6f"
      },
      "execution_count": null,
      "outputs": [
        {
          "output_type": "execute_result",
          "data": {
            "text/plain": [
              "{1: 0.7016583248530663,\n",
              " 3: 0.7381373180203943,\n",
              " 5: 0.7509767882979238,\n",
              " 10: 0.767915169639952,\n",
              " 15: 0.7695911472935835,\n",
              " 20: 0.7753580749447918,\n",
              " 25: 0.7753577288114473,\n",
              " 35: 0.7772188878043378,\n",
              " 50: 0.7777778931555592,\n",
              " 100: 0.7777789315555925}"
            ]
          },
          "metadata": {},
          "execution_count": 50
        }
      ]
    },
    {
      "cell_type": "markdown",
      "source": [
        "\n",
        "\n",
        "---\n",
        "\n",
        "\n",
        "### Part 10: Retraining on Training + Validation Data (2 points)\n",
        "\n",
        "Please retrain your data on both the training and validation set. Make sure you run the KNeighborsClassifier with the best number of neighbors as you determined from the previous part."
      ],
      "metadata": {
        "id": "OQ-lcbsRH_Jc"
      }
    },
    {
      "cell_type": "code",
      "source": [
        "nn_results = KFoldCV_NN(X_train, y_train)\n",
        "best_k = max(nn_results.items(), key=lambda x: x[1])[0]\n",
        "\n",
        "final_knn = KNeighborsClassifier(n_neighbors=best_k)\n",
        "final_knn.fit(X_train, y_train)"
      ],
      "metadata": {
        "id": "jkvJwsZ6uaQH",
        "colab": {
          "base_uri": "https://localhost:8080/",
          "height": 80
        },
        "outputId": "3f5d8ce4-39b4-4191-eaf9-e821cc0eeb21"
      },
      "execution_count": null,
      "outputs": [
        {
          "output_type": "execute_result",
          "data": {
            "text/plain": [
              "KNeighborsClassifier(n_neighbors=100)"
            ],
            "text/html": [
              "<style>#sk-container-id-1 {\n",
              "  /* Definition of color scheme common for light and dark mode */\n",
              "  --sklearn-color-text: #000;\n",
              "  --sklearn-color-text-muted: #666;\n",
              "  --sklearn-color-line: gray;\n",
              "  /* Definition of color scheme for unfitted estimators */\n",
              "  --sklearn-color-unfitted-level-0: #fff5e6;\n",
              "  --sklearn-color-unfitted-level-1: #f6e4d2;\n",
              "  --sklearn-color-unfitted-level-2: #ffe0b3;\n",
              "  --sklearn-color-unfitted-level-3: chocolate;\n",
              "  /* Definition of color scheme for fitted estimators */\n",
              "  --sklearn-color-fitted-level-0: #f0f8ff;\n",
              "  --sklearn-color-fitted-level-1: #d4ebff;\n",
              "  --sklearn-color-fitted-level-2: #b3dbfd;\n",
              "  --sklearn-color-fitted-level-3: cornflowerblue;\n",
              "\n",
              "  /* Specific color for light theme */\n",
              "  --sklearn-color-text-on-default-background: var(--sg-text-color, var(--theme-code-foreground, var(--jp-content-font-color1, black)));\n",
              "  --sklearn-color-background: var(--sg-background-color, var(--theme-background, var(--jp-layout-color0, white)));\n",
              "  --sklearn-color-border-box: var(--sg-text-color, var(--theme-code-foreground, var(--jp-content-font-color1, black)));\n",
              "  --sklearn-color-icon: #696969;\n",
              "\n",
              "  @media (prefers-color-scheme: dark) {\n",
              "    /* Redefinition of color scheme for dark theme */\n",
              "    --sklearn-color-text-on-default-background: var(--sg-text-color, var(--theme-code-foreground, var(--jp-content-font-color1, white)));\n",
              "    --sklearn-color-background: var(--sg-background-color, var(--theme-background, var(--jp-layout-color0, #111)));\n",
              "    --sklearn-color-border-box: var(--sg-text-color, var(--theme-code-foreground, var(--jp-content-font-color1, white)));\n",
              "    --sklearn-color-icon: #878787;\n",
              "  }\n",
              "}\n",
              "\n",
              "#sk-container-id-1 {\n",
              "  color: var(--sklearn-color-text);\n",
              "}\n",
              "\n",
              "#sk-container-id-1 pre {\n",
              "  padding: 0;\n",
              "}\n",
              "\n",
              "#sk-container-id-1 input.sk-hidden--visually {\n",
              "  border: 0;\n",
              "  clip: rect(1px 1px 1px 1px);\n",
              "  clip: rect(1px, 1px, 1px, 1px);\n",
              "  height: 1px;\n",
              "  margin: -1px;\n",
              "  overflow: hidden;\n",
              "  padding: 0;\n",
              "  position: absolute;\n",
              "  width: 1px;\n",
              "}\n",
              "\n",
              "#sk-container-id-1 div.sk-dashed-wrapped {\n",
              "  border: 1px dashed var(--sklearn-color-line);\n",
              "  margin: 0 0.4em 0.5em 0.4em;\n",
              "  box-sizing: border-box;\n",
              "  padding-bottom: 0.4em;\n",
              "  background-color: var(--sklearn-color-background);\n",
              "}\n",
              "\n",
              "#sk-container-id-1 div.sk-container {\n",
              "  /* jupyter's `normalize.less` sets `[hidden] { display: none; }`\n",
              "     but bootstrap.min.css set `[hidden] { display: none !important; }`\n",
              "     so we also need the `!important` here to be able to override the\n",
              "     default hidden behavior on the sphinx rendered scikit-learn.org.\n",
              "     See: https://github.com/scikit-learn/scikit-learn/issues/21755 */\n",
              "  display: inline-block !important;\n",
              "  position: relative;\n",
              "}\n",
              "\n",
              "#sk-container-id-1 div.sk-text-repr-fallback {\n",
              "  display: none;\n",
              "}\n",
              "\n",
              "div.sk-parallel-item,\n",
              "div.sk-serial,\n",
              "div.sk-item {\n",
              "  /* draw centered vertical line to link estimators */\n",
              "  background-image: linear-gradient(var(--sklearn-color-text-on-default-background), var(--sklearn-color-text-on-default-background));\n",
              "  background-size: 2px 100%;\n",
              "  background-repeat: no-repeat;\n",
              "  background-position: center center;\n",
              "}\n",
              "\n",
              "/* Parallel-specific style estimator block */\n",
              "\n",
              "#sk-container-id-1 div.sk-parallel-item::after {\n",
              "  content: \"\";\n",
              "  width: 100%;\n",
              "  border-bottom: 2px solid var(--sklearn-color-text-on-default-background);\n",
              "  flex-grow: 1;\n",
              "}\n",
              "\n",
              "#sk-container-id-1 div.sk-parallel {\n",
              "  display: flex;\n",
              "  align-items: stretch;\n",
              "  justify-content: center;\n",
              "  background-color: var(--sklearn-color-background);\n",
              "  position: relative;\n",
              "}\n",
              "\n",
              "#sk-container-id-1 div.sk-parallel-item {\n",
              "  display: flex;\n",
              "  flex-direction: column;\n",
              "}\n",
              "\n",
              "#sk-container-id-1 div.sk-parallel-item:first-child::after {\n",
              "  align-self: flex-end;\n",
              "  width: 50%;\n",
              "}\n",
              "\n",
              "#sk-container-id-1 div.sk-parallel-item:last-child::after {\n",
              "  align-self: flex-start;\n",
              "  width: 50%;\n",
              "}\n",
              "\n",
              "#sk-container-id-1 div.sk-parallel-item:only-child::after {\n",
              "  width: 0;\n",
              "}\n",
              "\n",
              "/* Serial-specific style estimator block */\n",
              "\n",
              "#sk-container-id-1 div.sk-serial {\n",
              "  display: flex;\n",
              "  flex-direction: column;\n",
              "  align-items: center;\n",
              "  background-color: var(--sklearn-color-background);\n",
              "  padding-right: 1em;\n",
              "  padding-left: 1em;\n",
              "}\n",
              "\n",
              "\n",
              "/* Toggleable style: style used for estimator/Pipeline/ColumnTransformer box that is\n",
              "clickable and can be expanded/collapsed.\n",
              "- Pipeline and ColumnTransformer use this feature and define the default style\n",
              "- Estimators will overwrite some part of the style using the `sk-estimator` class\n",
              "*/\n",
              "\n",
              "/* Pipeline and ColumnTransformer style (default) */\n",
              "\n",
              "#sk-container-id-1 div.sk-toggleable {\n",
              "  /* Default theme specific background. It is overwritten whether we have a\n",
              "  specific estimator or a Pipeline/ColumnTransformer */\n",
              "  background-color: var(--sklearn-color-background);\n",
              "}\n",
              "\n",
              "/* Toggleable label */\n",
              "#sk-container-id-1 label.sk-toggleable__label {\n",
              "  cursor: pointer;\n",
              "  display: flex;\n",
              "  width: 100%;\n",
              "  margin-bottom: 0;\n",
              "  padding: 0.5em;\n",
              "  box-sizing: border-box;\n",
              "  text-align: center;\n",
              "  align-items: start;\n",
              "  justify-content: space-between;\n",
              "  gap: 0.5em;\n",
              "}\n",
              "\n",
              "#sk-container-id-1 label.sk-toggleable__label .caption {\n",
              "  font-size: 0.6rem;\n",
              "  font-weight: lighter;\n",
              "  color: var(--sklearn-color-text-muted);\n",
              "}\n",
              "\n",
              "#sk-container-id-1 label.sk-toggleable__label-arrow:before {\n",
              "  /* Arrow on the left of the label */\n",
              "  content: \"▸\";\n",
              "  float: left;\n",
              "  margin-right: 0.25em;\n",
              "  color: var(--sklearn-color-icon);\n",
              "}\n",
              "\n",
              "#sk-container-id-1 label.sk-toggleable__label-arrow:hover:before {\n",
              "  color: var(--sklearn-color-text);\n",
              "}\n",
              "\n",
              "/* Toggleable content - dropdown */\n",
              "\n",
              "#sk-container-id-1 div.sk-toggleable__content {\n",
              "  max-height: 0;\n",
              "  max-width: 0;\n",
              "  overflow: hidden;\n",
              "  text-align: left;\n",
              "  /* unfitted */\n",
              "  background-color: var(--sklearn-color-unfitted-level-0);\n",
              "}\n",
              "\n",
              "#sk-container-id-1 div.sk-toggleable__content.fitted {\n",
              "  /* fitted */\n",
              "  background-color: var(--sklearn-color-fitted-level-0);\n",
              "}\n",
              "\n",
              "#sk-container-id-1 div.sk-toggleable__content pre {\n",
              "  margin: 0.2em;\n",
              "  border-radius: 0.25em;\n",
              "  color: var(--sklearn-color-text);\n",
              "  /* unfitted */\n",
              "  background-color: var(--sklearn-color-unfitted-level-0);\n",
              "}\n",
              "\n",
              "#sk-container-id-1 div.sk-toggleable__content.fitted pre {\n",
              "  /* unfitted */\n",
              "  background-color: var(--sklearn-color-fitted-level-0);\n",
              "}\n",
              "\n",
              "#sk-container-id-1 input.sk-toggleable__control:checked~div.sk-toggleable__content {\n",
              "  /* Expand drop-down */\n",
              "  max-height: 200px;\n",
              "  max-width: 100%;\n",
              "  overflow: auto;\n",
              "}\n",
              "\n",
              "#sk-container-id-1 input.sk-toggleable__control:checked~label.sk-toggleable__label-arrow:before {\n",
              "  content: \"▾\";\n",
              "}\n",
              "\n",
              "/* Pipeline/ColumnTransformer-specific style */\n",
              "\n",
              "#sk-container-id-1 div.sk-label input.sk-toggleable__control:checked~label.sk-toggleable__label {\n",
              "  color: var(--sklearn-color-text);\n",
              "  background-color: var(--sklearn-color-unfitted-level-2);\n",
              "}\n",
              "\n",
              "#sk-container-id-1 div.sk-label.fitted input.sk-toggleable__control:checked~label.sk-toggleable__label {\n",
              "  background-color: var(--sklearn-color-fitted-level-2);\n",
              "}\n",
              "\n",
              "/* Estimator-specific style */\n",
              "\n",
              "/* Colorize estimator box */\n",
              "#sk-container-id-1 div.sk-estimator input.sk-toggleable__control:checked~label.sk-toggleable__label {\n",
              "  /* unfitted */\n",
              "  background-color: var(--sklearn-color-unfitted-level-2);\n",
              "}\n",
              "\n",
              "#sk-container-id-1 div.sk-estimator.fitted input.sk-toggleable__control:checked~label.sk-toggleable__label {\n",
              "  /* fitted */\n",
              "  background-color: var(--sklearn-color-fitted-level-2);\n",
              "}\n",
              "\n",
              "#sk-container-id-1 div.sk-label label.sk-toggleable__label,\n",
              "#sk-container-id-1 div.sk-label label {\n",
              "  /* The background is the default theme color */\n",
              "  color: var(--sklearn-color-text-on-default-background);\n",
              "}\n",
              "\n",
              "/* On hover, darken the color of the background */\n",
              "#sk-container-id-1 div.sk-label:hover label.sk-toggleable__label {\n",
              "  color: var(--sklearn-color-text);\n",
              "  background-color: var(--sklearn-color-unfitted-level-2);\n",
              "}\n",
              "\n",
              "/* Label box, darken color on hover, fitted */\n",
              "#sk-container-id-1 div.sk-label.fitted:hover label.sk-toggleable__label.fitted {\n",
              "  color: var(--sklearn-color-text);\n",
              "  background-color: var(--sklearn-color-fitted-level-2);\n",
              "}\n",
              "\n",
              "/* Estimator label */\n",
              "\n",
              "#sk-container-id-1 div.sk-label label {\n",
              "  font-family: monospace;\n",
              "  font-weight: bold;\n",
              "  display: inline-block;\n",
              "  line-height: 1.2em;\n",
              "}\n",
              "\n",
              "#sk-container-id-1 div.sk-label-container {\n",
              "  text-align: center;\n",
              "}\n",
              "\n",
              "/* Estimator-specific */\n",
              "#sk-container-id-1 div.sk-estimator {\n",
              "  font-family: monospace;\n",
              "  border: 1px dotted var(--sklearn-color-border-box);\n",
              "  border-radius: 0.25em;\n",
              "  box-sizing: border-box;\n",
              "  margin-bottom: 0.5em;\n",
              "  /* unfitted */\n",
              "  background-color: var(--sklearn-color-unfitted-level-0);\n",
              "}\n",
              "\n",
              "#sk-container-id-1 div.sk-estimator.fitted {\n",
              "  /* fitted */\n",
              "  background-color: var(--sklearn-color-fitted-level-0);\n",
              "}\n",
              "\n",
              "/* on hover */\n",
              "#sk-container-id-1 div.sk-estimator:hover {\n",
              "  /* unfitted */\n",
              "  background-color: var(--sklearn-color-unfitted-level-2);\n",
              "}\n",
              "\n",
              "#sk-container-id-1 div.sk-estimator.fitted:hover {\n",
              "  /* fitted */\n",
              "  background-color: var(--sklearn-color-fitted-level-2);\n",
              "}\n",
              "\n",
              "/* Specification for estimator info (e.g. \"i\" and \"?\") */\n",
              "\n",
              "/* Common style for \"i\" and \"?\" */\n",
              "\n",
              ".sk-estimator-doc-link,\n",
              "a:link.sk-estimator-doc-link,\n",
              "a:visited.sk-estimator-doc-link {\n",
              "  float: right;\n",
              "  font-size: smaller;\n",
              "  line-height: 1em;\n",
              "  font-family: monospace;\n",
              "  background-color: var(--sklearn-color-background);\n",
              "  border-radius: 1em;\n",
              "  height: 1em;\n",
              "  width: 1em;\n",
              "  text-decoration: none !important;\n",
              "  margin-left: 0.5em;\n",
              "  text-align: center;\n",
              "  /* unfitted */\n",
              "  border: var(--sklearn-color-unfitted-level-1) 1pt solid;\n",
              "  color: var(--sklearn-color-unfitted-level-1);\n",
              "}\n",
              "\n",
              ".sk-estimator-doc-link.fitted,\n",
              "a:link.sk-estimator-doc-link.fitted,\n",
              "a:visited.sk-estimator-doc-link.fitted {\n",
              "  /* fitted */\n",
              "  border: var(--sklearn-color-fitted-level-1) 1pt solid;\n",
              "  color: var(--sklearn-color-fitted-level-1);\n",
              "}\n",
              "\n",
              "/* On hover */\n",
              "div.sk-estimator:hover .sk-estimator-doc-link:hover,\n",
              ".sk-estimator-doc-link:hover,\n",
              "div.sk-label-container:hover .sk-estimator-doc-link:hover,\n",
              ".sk-estimator-doc-link:hover {\n",
              "  /* unfitted */\n",
              "  background-color: var(--sklearn-color-unfitted-level-3);\n",
              "  color: var(--sklearn-color-background);\n",
              "  text-decoration: none;\n",
              "}\n",
              "\n",
              "div.sk-estimator.fitted:hover .sk-estimator-doc-link.fitted:hover,\n",
              ".sk-estimator-doc-link.fitted:hover,\n",
              "div.sk-label-container:hover .sk-estimator-doc-link.fitted:hover,\n",
              ".sk-estimator-doc-link.fitted:hover {\n",
              "  /* fitted */\n",
              "  background-color: var(--sklearn-color-fitted-level-3);\n",
              "  color: var(--sklearn-color-background);\n",
              "  text-decoration: none;\n",
              "}\n",
              "\n",
              "/* Span, style for the box shown on hovering the info icon */\n",
              ".sk-estimator-doc-link span {\n",
              "  display: none;\n",
              "  z-index: 9999;\n",
              "  position: relative;\n",
              "  font-weight: normal;\n",
              "  right: .2ex;\n",
              "  padding: .5ex;\n",
              "  margin: .5ex;\n",
              "  width: min-content;\n",
              "  min-width: 20ex;\n",
              "  max-width: 50ex;\n",
              "  color: var(--sklearn-color-text);\n",
              "  box-shadow: 2pt 2pt 4pt #999;\n",
              "  /* unfitted */\n",
              "  background: var(--sklearn-color-unfitted-level-0);\n",
              "  border: .5pt solid var(--sklearn-color-unfitted-level-3);\n",
              "}\n",
              "\n",
              ".sk-estimator-doc-link.fitted span {\n",
              "  /* fitted */\n",
              "  background: var(--sklearn-color-fitted-level-0);\n",
              "  border: var(--sklearn-color-fitted-level-3);\n",
              "}\n",
              "\n",
              ".sk-estimator-doc-link:hover span {\n",
              "  display: block;\n",
              "}\n",
              "\n",
              "/* \"?\"-specific style due to the `<a>` HTML tag */\n",
              "\n",
              "#sk-container-id-1 a.estimator_doc_link {\n",
              "  float: right;\n",
              "  font-size: 1rem;\n",
              "  line-height: 1em;\n",
              "  font-family: monospace;\n",
              "  background-color: var(--sklearn-color-background);\n",
              "  border-radius: 1rem;\n",
              "  height: 1rem;\n",
              "  width: 1rem;\n",
              "  text-decoration: none;\n",
              "  /* unfitted */\n",
              "  color: var(--sklearn-color-unfitted-level-1);\n",
              "  border: var(--sklearn-color-unfitted-level-1) 1pt solid;\n",
              "}\n",
              "\n",
              "#sk-container-id-1 a.estimator_doc_link.fitted {\n",
              "  /* fitted */\n",
              "  border: var(--sklearn-color-fitted-level-1) 1pt solid;\n",
              "  color: var(--sklearn-color-fitted-level-1);\n",
              "}\n",
              "\n",
              "/* On hover */\n",
              "#sk-container-id-1 a.estimator_doc_link:hover {\n",
              "  /* unfitted */\n",
              "  background-color: var(--sklearn-color-unfitted-level-3);\n",
              "  color: var(--sklearn-color-background);\n",
              "  text-decoration: none;\n",
              "}\n",
              "\n",
              "#sk-container-id-1 a.estimator_doc_link.fitted:hover {\n",
              "  /* fitted */\n",
              "  background-color: var(--sklearn-color-fitted-level-3);\n",
              "}\n",
              "</style><div id=\"sk-container-id-1\" class=\"sk-top-container\"><div class=\"sk-text-repr-fallback\"><pre>KNeighborsClassifier(n_neighbors=100)</pre><b>In a Jupyter environment, please rerun this cell to show the HTML representation or trust the notebook. <br />On GitHub, the HTML representation is unable to render, please try loading this page with nbviewer.org.</b></div><div class=\"sk-container\" hidden><div class=\"sk-item\"><div class=\"sk-estimator fitted sk-toggleable\"><input class=\"sk-toggleable__control sk-hidden--visually\" id=\"sk-estimator-id-1\" type=\"checkbox\" checked><label for=\"sk-estimator-id-1\" class=\"sk-toggleable__label fitted sk-toggleable__label-arrow\"><div><div>KNeighborsClassifier</div></div><div><a class=\"sk-estimator-doc-link fitted\" rel=\"noreferrer\" target=\"_blank\" href=\"https://scikit-learn.org/1.6/modules/generated/sklearn.neighbors.KNeighborsClassifier.html\">?<span>Documentation for KNeighborsClassifier</span></a><span class=\"sk-estimator-doc-link fitted\">i<span>Fitted</span></span></div></label><div class=\"sk-toggleable__content fitted\"><pre>KNeighborsClassifier(n_neighbors=100)</pre></div> </div></div></div></div>"
            ]
          },
          "metadata": {},
          "execution_count": 51
        }
      ]
    },
    {
      "cell_type": "markdown",
      "source": [
        "\n",
        "\n",
        "---\n",
        "\n",
        "\n",
        "### Part 11: Test Set Evaluation (1 point)\n",
        "\n",
        "Evaluate your final model's performance."
      ],
      "metadata": {
        "id": "QxJsGZiLH_DA"
      }
    },
    {
      "cell_type": "code",
      "source": [
        "knn_test_pred = final_knn.predict(X_test)\n",
        "knn_test_accuracy = accuracy_score(y_test, knn_test_pred)\n",
        "print(f\"KNN Test set accuracy: {knn_test_accuracy:.4f}\")\n",
        "\n",
        "# compare logistic regression and KNN\n",
        "print(\"\\nFinal Model Comparison:\")\n",
        "print(f\"Logistic Regression accuracy: {accuracy:.4f}\")\n",
        "print(f\"KNN accuracy: {knn_test_accuracy:.4f}\")"
      ],
      "metadata": {
        "id": "IfLnPu1VHdoW",
        "colab": {
          "base_uri": "https://localhost:8080/"
        },
        "outputId": "29ed1851-ff1b-4bcb-8ab6-b3164f88ebcd"
      },
      "execution_count": null,
      "outputs": [
        {
          "output_type": "stream",
          "name": "stdout",
          "text": [
            "KNN Test set accuracy: 0.7804\n",
            "\n",
            "Final Model Comparison:\n",
            "Logistic Regression accuracy: 0.7908\n",
            "KNN accuracy: 0.7804\n"
          ]
        }
      ]
    }
  ],
  "metadata": {
    "kernelspec": {
      "display_name": "Python 3",
      "language": "python",
      "name": "python3"
    },
    "language_info": {
      "codemirror_mode": {
        "name": "ipython",
        "version": 3
      },
      "file_extension": ".py",
      "mimetype": "text/x-python",
      "name": "python",
      "nbconvert_exporter": "python",
      "pygments_lexer": "ipython3",
      "version": "3.7.4"
    },
    "colab": {
      "provenance": [],
      "toc_visible": true
    }
  },
  "nbformat": 4,
  "nbformat_minor": 0
}