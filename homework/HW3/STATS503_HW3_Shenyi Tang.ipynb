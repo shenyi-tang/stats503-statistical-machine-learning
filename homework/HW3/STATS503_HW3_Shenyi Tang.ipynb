{
 "cells": [
  {
   "cell_type": "markdown",
   "id": "40cfa38f-16f1-40ae-9e1d-dae7a6edee65",
   "metadata": {},
   "source": [
    "#### Question 1"
   ]
  },
  {
   "cell_type": "markdown",
   "id": "17670580-5d53-4dea-a8b8-bc5c5205a24b",
   "metadata": {},
   "source": [
    "**ISLP chapter 4, conceptual excercise #1**\n",
    "\n",
    "**Using a little bit of algebra, prove that (4.2)** \n",
    "$$p(X)=\\cfrac{e^{\\beta_0+\\beta_1 X}}{1+e^{\\beta_0+\\beta_1 X}}$$ \n",
    "**is equivalent to (4.3)**\n",
    "$$\\cfrac{p(X)}{1-p(X)}=e^{\\beta_0+\\beta_1 X}$$ \n",
    "**In other words, the logistic function representation and logit representation for the logistic regression model are equivalent.**"
   ]
  },
  {
   "cell_type": "markdown",
   "id": "1b3caa39-b783-4f8f-9e69-50b190570ffc",
   "metadata": {},
   "source": [
    "Let $Z = e^{\\beta_0+\\beta_1X}, p(X) = \\frac{Z}{1+Z}$\n",
    "\n",
    "So we can get,\n",
    "$$\n",
    "\\begin{align*}\n",
    "\\frac{1}{p(X)} &= \\frac{1+Z}{Z} = \\frac{1}{Z} + 1 \\\\\n",
    "\\frac{1}{p(X)} - 1 &= \\frac{1}{Z} \\\\\n",
    "Z &= \\frac{1}{\\frac{1}{p(X)} - 1} = \\frac{1}{\\frac{1-p(X)}{p(X)}} = \\frac{p(X)}{1-p(X)} = e^{\\beta_0+\\beta_1X}\n",
    "\\end{align*}\n",
    "$$"
   ]
  },
  {
   "cell_type": "markdown",
   "id": "28b4c607-8311-459f-af47-a014a3712380",
   "metadata": {},
   "source": [
    "#### Question 2"
   ]
  },
  {
   "cell_type": "markdown",
   "id": "6f3eaf6a-8677-49fb-96d4-20691da09ea0",
   "metadata": {},
   "source": [
    "**ISLP chapter 4, conceptual excercise #4**\n",
    "\n",
    "**When the number of features $p$ is large, there tends to be a deterioration in the performance of KNN and other local approaches that perform prediction using only observations that are near the test observation for which a prediction must be made. This phenomenon is known as the curse of dimensionality, and it ties into the fact that curse of dinonparametric approaches often perform poorly when $p$ is large. We mensionality will now investigate this curse.**"
   ]
  },
  {
   "cell_type": "markdown",
   "id": "4dc000bd-4b09-48f4-af67-d7fa236937eb",
   "metadata": {},
   "source": [
    "**(a) Suppose that we have a set of observations, each with measurements on** $p=1$ **feature,** $X.$ **We assume that** $X$ **is uniformly (evenly) distributed on** $[0,1]$. **Associated with each observation is a response value. Suppose that Suppose that we wish to predict a test observation’s response using only observations that are within** $10\\%$ **of the range of** $X$ **closest to that test observation. For instance, in order to predict the response for a test observation with** $X=6,$ **we use observations in the range** $[0.55,0.65].$ **On the average, what fraction of the available observations will we use to make the prediction?**"
   ]
  },
  {
   "cell_type": "markdown",
   "id": "9e30d840-0aae-421f-827a-eebdfe4e0b7b",
   "metadata": {},
   "source": [
    "$10\\%$"
   ]
  },
  {
   "cell_type": "markdown",
   "id": "9aeb5254-0ae9-4509-831b-e96523b0764c",
   "metadata": {},
   "source": [
    "**(b) Now suppose that we have a set of observations, each with measurements on** $p = 2$ **features,** $X_1$ **and** $X_2$. **We assume that** ($X_1$, $X_2$) **are uniformly distributed on** $[0, 1]\\times[0, 1]$.  **We wish to predict a test observation’s response using only observations that are within** $10\\%$ **of the range of** $X_1$  **and within** $10\\%$ **of the range of** $X_2$ **closest to that test observation. For instance, in order to predict the response for a test observation with** $X1 = 0.6$ **and** $X2 = 0.35$ **, we will use observations in the range** $[0.55, 0.65]$ **for X1 and in the range** $[0.3, 0.4]$ **for** $X_2$ **. On average, what fraction of the available observations will we use to make the prediction?**"
   ]
  },
  {
   "cell_type": "markdown",
   "id": "9ee7415d-6bd1-40eb-91c4-7dc189866edd",
   "metadata": {},
   "source": [
    "$1\\%$"
   ]
  },
  {
   "cell_type": "markdown",
   "id": "23ef18ce-0c1f-4ff8-b058-9312c2c4d177",
   "metadata": {},
   "source": [
    "**(c) Now suppose that we have a set of observations on $p = 100$ features. Again the observations are uniformly distributed on each feature, and again each feature ranges in value from 0 to 1. We wish to predict a test observation’s response using observations within the $10\\%$ of each feature’s range that is closest to that test observation. What fraction of the available observations will we use to make the prediction?**"
   ]
  },
  {
   "cell_type": "markdown",
   "id": "f7c4a66d-5cf3-4873-bc7b-942149d6a6b9",
   "metadata": {},
   "source": [
    "$\\cfrac{1}{10^{100}}$"
   ]
  },
  {
   "cell_type": "markdown",
   "id": "f536dcf9-f405-4738-97a1-9331784483b8",
   "metadata": {},
   "source": [
    "**(d) Using your answers to parts (a)–(c), argue that a drawback of KNN when p is large is that there are very few training observations “near” any given test observation.**"
   ]
  },
  {
   "cell_type": "markdown",
   "id": "9185c24f-1ad8-4549-97de-6307b0b8d4c8",
   "metadata": {},
   "source": [
    "As $p$ gets larger, the fraction of the available observations will be $\\cfrac{1}{10^p}$, tending to be zero."
   ]
  },
  {
   "cell_type": "markdown",
   "id": "340e3257-b6a6-4b23-8a21-bbe60a210ccf",
   "metadata": {},
   "source": [
    "**(e) Now suppose that we wish to make a prediction for a test observation by creating a $p-$dimensional hypercube centered around the test observation that contains, on average, $10\\%$ of the training observations. For $p = 1, 2,$ and $100$, what is the length of each side of the hypercube? Comment on your answer.**"
   ]
  },
  {
   "cell_type": "markdown",
   "id": "2e6a67d5-0b95-4673-b991-fe01dfc4ed55",
   "metadata": {},
   "source": [
    "For $p=1$, the length of the side is ${0.1}$\n",
    "\n",
    "For $p=2$, the length of the side is $\\sqrt{0.1}$ \n",
    "\n",
    "For $p=100$, the length of the side is $\\sqrt[100]{0.1}$"
   ]
  },
  {
   "cell_type": "markdown",
   "id": "f8cd108a-64c5-4113-b5be-3bc95ac8f253",
   "metadata": {},
   "source": [
    "#### Question 3"
   ]
  },
  {
   "cell_type": "markdown",
   "id": "a8c3c69c-352b-45da-994a-c1aa09504b00",
   "metadata": {},
   "source": [
    "**ISLP chapter 4, conceptual exercise #9**"
   ]
  },
  {
   "cell_type": "markdown",
   "id": "86f271cc-b3c6-44f1-bcf9-97f6ab0c2d5d",
   "metadata": {},
   "source": [
    "**This problem has to do with odds**\n",
    "\n",
    "**(a) On average, what fraction of people with an odds of $0.37$ of defaulting on their credit card payment will in fact default?**"
   ]
  },
  {
   "cell_type": "markdown",
   "id": "3d1cc640-fd02-4a94-ab4d-f4a1e8a9a968",
   "metadata": {},
   "source": [
    "$\\cfrac{p(x)}{1-p(x)}=0.37 \\Rightarrow p(x)\\approx 0.27$"
   ]
  },
  {
   "cell_type": "markdown",
   "id": "e579e8c9-251c-4f47-9aa3-5d3971ff791b",
   "metadata": {},
   "source": [
    "**(b) Suppose that an individual has a 16 % chance of defaulting on her credit card payment. What are the odds that she will default?**"
   ]
  },
  {
   "cell_type": "markdown",
   "id": "aa1c7c46-eb44-483d-a83a-1f865fa27fb2",
   "metadata": {},
   "source": [
    "$p(x)=0.16\\Rightarrow \\cfrac{p(x)}{1-p(x)}\\approx 0.19$"
   ]
  },
  {
   "cell_type": "markdown",
   "id": "de5d6a0e-b08a-4b63-84dd-e5f0da185a49",
   "metadata": {},
   "source": [
    "#### Question 4"
   ]
  },
  {
   "cell_type": "markdown",
   "id": "414140f8-aed3-4384-a828-d5c00a7c9ce3",
   "metadata": {},
   "source": [
    "**ISLP chapter 4, conceptual excercise #12, parts a, b, and c**\n",
    "\n",
    "Suppose that you wish to classify an observation $X \\in \\mathbb{R}$ into apples and oranges. You fit a logistic regression model and find that \n",
    "$$\\widehat{Pr}(Y=\\text{orange}|X=x)=\\cfrac{\\text{exp}(\\hat{\\beta_0}+\\hat{\\beta_1}x)}{1+\\text{exp}(\\hat{\\beta_0}+\\hat{\\beta_1}x)}$$\n",
    "Your friend fits a logistic regression model to the same data using $softmax$ formulation in $(4.13)$, and finds that\n",
    "$$\n",
    "\\widehat{\\text{Pr}}(Y = \\text{orange}|X = x) = \\frac{\\exp(\\hat{\\alpha}_{\\text{orange}0} + \\hat{\\alpha}_{\\text{orange}1}x)}{\\exp(\\hat{\\alpha}_{\\text{orange}0} + \\hat{\\alpha}_{\\text{orange}1}x) + \\exp(\\hat{\\alpha}_{\\text{apple}0} + \\hat{\\alpha}_{\\text{apple}1}x)}.\n",
    "$$"
   ]
  },
  {
   "cell_type": "markdown",
   "id": "ce0c327c-9415-4b77-90d3-62ebcb05402f",
   "metadata": {},
   "source": [
    "**(a) What is the log odds of $\\text{orange}$ versus $\\text{apple}$ in your model**"
   ]
  },
  {
   "cell_type": "markdown",
   "id": "cdca24d4-ce91-4bf0-80fa-4c7a9757887c",
   "metadata": {},
   "source": [
    "$$\n",
    "\\begin{gathered}\n",
    "\\because log\\ odds=\\text{ln}(\\cfrac{p(x)}{1-p(x)}) \\\\\n",
    "\\therefore log\\ odds_{\\text{orange vs. apple}} = \\hat{\\beta}_0+\\hat{\\beta}_1x\n",
    "\\end{gathered}\n",
    "$$"
   ]
  },
  {
   "cell_type": "markdown",
   "id": "d43f22a7-9785-47e2-b57f-0d4b2eab93bb",
   "metadata": {},
   "source": [
    "**(b) What is the log odds of $\\text{orange}$ versus $\\text{apple}$ in your friend's model**"
   ]
  },
  {
   "cell_type": "markdown",
   "id": "53a05182-51a1-42f4-ab0e-3d7bf7eab4c5",
   "metadata": {},
   "source": [
    "$$\n",
    "\\begin{gathered}\n",
    "\\because log\\ odds=\\text{ln}(\\cfrac{p(x)}{1-p(x)}) \\\\\n",
    "\\therefore log\\ odds_{\\text{orange vs. apple}} = (\\hat{\\alpha}_{\\text{orange}0} + \\hat{\\alpha}_{\\text{orange}1}x)-(\\hat{\\alpha}_{\\text{apple}0} + \\hat{\\alpha}_{\\text{apple}1}x)\n",
    "\\end{gathered}\n",
    "$$"
   ]
  },
  {
   "cell_type": "markdown",
   "id": "bdf6ad8c-52c0-4775-b16e-4a79075e28b2",
   "metadata": {},
   "source": [
    "**(c) Suppose that in your model, $\\hat{\\beta}_0=2$ and $\\hat{\\beta}_1=-1$. What are coefficients estimated in your friend's model? Be as specific as possible.**"
   ]
  },
  {
   "cell_type": "markdown",
   "id": "f5e4495e-9172-4654-b028-e06e3e8c43ff",
   "metadata": {},
   "source": [
    "In my model, $log\\ odds=2-x$.\n",
    "\n",
    "Therefore in my friend's model, $\\hat{\\alpha}_{\\text{orange}0}-\\hat{\\alpha}_{\\text{apple}0}=2,\\ \\hat{\\alpha}_{\\text{orange}1}-\\hat{\\alpha}_{\\text{apple}1}=-1$\n",
    "\n",
    "Therefore, $\\hat{\\alpha}_{\\text{orange}0}=2,\\ \\hat{\\alpha}_{\\text{orange}1}=-1,\\ \\hat{\\alpha}_{\\text{apple}0}=0, \\hat{\\alpha}_{\\text{apple}1}=0$"
   ]
  },
  {
   "cell_type": "markdown",
   "id": "6949629c-c72b-4f2f-a860-3a1f46a8db32",
   "metadata": {},
   "source": [
    "#### Question 5"
   ]
  },
  {
   "cell_type": "markdown",
   "id": "30aa800e-3b1a-4b00-8d51-51d9614a9eed",
   "metadata": {},
   "source": [
    "**Suppose we fit logistic regression to predict the probability that a STATS 503 student gets an A in the class, from two variables. The variables are average hours of study per week $(X_1)$ adn GPA in other statistics courses taken $(X_2)$. The model estimates $\\beta_0=-4, \\beta_1=0.05, \\beta_2=1$.**"
   ]
  },
  {
   "cell_type": "markdown",
   "id": "4d6ad89e-c875-4926-921e-6bd2d44ec71a",
   "metadata": {},
   "source": [
    "**(a) Predict the probability of getting an A for a student who studies 5 hours\n",
    "a week and has a GPA of 3.5 in other statistics courses.**"
   ]
  },
  {
   "cell_type": "markdown",
   "id": "2b0cff93-c4a2-4ec5-806a-74175fc61a43",
   "metadata": {},
   "source": [
    "$$\n",
    "\\begin{gathered}\n",
    "\\widehat{p(x)}=\\cfrac{exp(\\hat{\\beta}_0+\\hat{\\beta}_1X_1+\\hat{\\beta}_2X_2)}{1+exp(\\hat{\\beta}_0+\\hat{\\beta}_1X_1+\\hat{\\beta}_2X_2)} \\\\[1em]\n",
    "\\because X_1=5,\\ X_2=3.5 \\\\[1em]\n",
    "\\therefore \\widehat{p(x)}=\\cfrac{e^{-0.25}}{1+e^{-0.25}}\\approx 0.4378\n",
    "\\end{gathered}\n",
    "$$"
   ]
  },
  {
   "cell_type": "markdown",
   "id": "be97e3b8-b6c0-48cf-9949-bed2db1b7d5e",
   "metadata": {},
   "source": [
    "**(b) What are the odds that this student will get an A?**"
   ]
  },
  {
   "cell_type": "markdown",
   "id": "dcdb61c7-8397-4455-8e80-d20a05a45387",
   "metadata": {},
   "source": [
    "$$\n",
    "log\\ odds=\\cfrac{\\widehat{p(x)}}{1-\\widehat{p(x)}}=0.7788\n",
    "$$"
   ]
  },
  {
   "cell_type": "markdown",
   "id": "73b1539e-39f7-4453-b638-fd66bc1425ba",
   "metadata": {},
   "source": [
    "**(c) How many hours does this student need to study for the model to predict a $50\\%$ change of getting an A.**"
   ]
  },
  {
   "cell_type": "markdown",
   "id": "5b0816ea-02dc-4adf-84b4-2765594aebbf",
   "metadata": {},
   "source": [
    "$$\n",
    "\\begin{gathered}\n",
    "0.5 = \\cfrac{exp(-4+\\hat{\\beta}_1X_1+3.5)}{1+exp(-4+\\hat{\\beta}_1X_1+3.5)} \\\\[1em]\n",
    "X_1=10\n",
    "\\end{gathered}\n",
    "$$"
   ]
  },
  {
   "cell_type": "markdown",
   "id": "3e245833-05f1-4282-bd6f-905ca3918ec7",
   "metadata": {},
   "source": [
    "#### Question 6"
   ]
  },
  {
   "cell_type": "markdown",
   "id": "7c6a594f-4913-4cf2-945d-a83d810f8266",
   "metadata": {},
   "source": [
    "**Download the `college_train` and `college_test` datasets from Canvas and load them as dataframes. Fit a `sklearn.linear_model.LogisticRegression` model to predict the Private variable from all other variables except for Name, using the `college_train` dataset. Let $\\hat{p}(y|x)$ denote the fitted model.**"
   ]
  },
  {
   "cell_type": "code",
   "execution_count": 65,
   "id": "0306a12f-173b-4b28-bf91-2e58543b9415",
   "metadata": {},
   "outputs": [
    {
     "name": "stdout",
     "output_type": "stream",
     "text": [
      "                                   Name  Private   Apps  Accept  Enroll  \\\n",
      "0   Northwest Missouri State University        0   2729    2535    1257   \n",
      "1              Ohio Wesleyan University        1   2190    1700     458   \n",
      "2                      Westmont College        0    950     713     351   \n",
      "3                 Carson-Newman College        1   1096     951     464   \n",
      "4  Arizona State University Main campus        0  12809   10308    3761   \n",
      "\n",
      "   Top10perc  Top25perc  F.Undergrad  P.Undergrad  Outstate  Room.Board  \\\n",
      "0          8         29         4787          472      3735        3136   \n",
      "1         36         65         1780           48     16732        5650   \n",
      "2         42         72         1276            9     14320        5304   \n",
      "3         27         62         1776          239      8150        3150   \n",
      "4         24         49        22593         7585      7434        4850   \n",
      "\n",
      "   Books  Personal  PhD  Terminal  S.F.Ratio  perc.alumni  Expend  Grad.Rate  \n",
      "0    250      1630   62        65       21.7           23    5284         54  \n",
      "1    550       550   93        93       12.1           32   12011         75  \n",
      "2    490      1410   77        77       14.9           17    8837         87  \n",
      "3    400       500   61        62       13.6           16    6716         67  \n",
      "4    700      2100   88        93       18.9            5    4602         48  \n",
      "                               Name  Private  Apps  Accept  Enroll  Top10perc  \\\n",
      "0  University of Wisconsin-Superior        0   910     910     342         14   \n",
      "1        College of Saint Catherine        1   511     411     186         23   \n",
      "2   North Carolina Wesleyan College        1   812     689     195          7   \n",
      "3                   Amherst College        1  4302     992     418         83   \n",
      "4             University of Dubuque        1   576     558     137         11   \n",
      "\n",
      "   Top25perc  F.Undergrad  P.Undergrad  Outstate  Room.Board  Books  Personal  \\\n",
      "0         53         1434          417      7032        2780    550      1960   \n",
      "1         51         1692          562     12224        4440    450      1000   \n",
      "2         24          646           84      8242        4230    600      1295   \n",
      "3         96         1593            5     19760        5300    660      1598   \n",
      "4         39          662          131     10430        3620    400      1500   \n",
      "\n",
      "   PhD  Terminal  S.F.Ratio  perc.alumni  Expend  Grad.Rate  \n",
      "0   75        81       15.2           15    6490         36  \n",
      "1   63        87       11.5           32    7315         77  \n",
      "2   77        77       12.7           11   10090         52  \n",
      "3   93        98        8.4           63   21424        100  \n",
      "4   85        98       16.5           18    8767         45  \n"
     ]
    }
   ],
   "source": [
    "import numpy as np\n",
    "import pandas as pd\n",
    "from sklearn.linear_model import LogisticRegression\n",
    "from sklearn.preprocessing import StandardScaler\n",
    "\n",
    "college_train = pd.read_csv(\"college_train.csv\", sep=',')\n",
    "\n",
    "college_test = pd.read_csv(\"college_test.csv\", sep=',')\n",
    "\n",
    "\n",
    "college_train[\"Private\"] = college_train[\"Private\"].map({\"Yes\": 1, \"No\": 0})\n",
    "college_test[\"Private\"] = college_test[\"Private\"].map({\"Yes\": 1, \"No\": 0})\n",
    "X_train = college_train.drop(columns=[\"Private\", \"Name\"])\n",
    "y_train = college_train[\"Private\"]\n",
    "X_test = college_test.drop(columns=[\"Private\", \"Name\"])\n",
    "y_test = college_test[\"Private\"]\n",
    "\n",
    "print(college_train.head())\n",
    "print(college_test.head())"
   ]
  },
  {
   "cell_type": "markdown",
   "id": "18a8a346-c0f3-4008-8be0-2d650bd01ce8",
   "metadata": {},
   "source": [
    "**(a) For each sample in the `college_test` dataset, use the fit model to predict the probability that `Private` is `Yes` and use the fit model to predict the probability that `Private` is `No`. Use these probabilities to calculate the negative log likelihood of the testing datase for the model:**\n",
    "$$-\\sum_{i=1}^{n}\\text{log}\\hat{p}(y_i|x_i)$$\n",
    "**where $n$ is the number of samples in `college_test` and each $(x_i,y_i)$ pair is a sample from that dataset.**"
   ]
  },
  {
   "cell_type": "code",
   "execution_count": 68,
   "id": "34b5766c-46a1-4d04-b269-a31e4e6f1b09",
   "metadata": {},
   "outputs": [
    {
     "name": "stdout",
     "output_type": "stream",
     "text": [
      "Negative log likelihood: 16.719303439208065\n"
     ]
    }
   ],
   "source": [
    "from sklearn.metrics import log_loss\n",
    "\n",
    "scaler = StandardScaler()\n",
    "X_train = scaler.fit_transform(X_train)\n",
    "X_test = scaler.transform(X_test)\n",
    "\n",
    "# model\n",
    "model = LogisticRegression()\n",
    "model.fit(X_train, y_train)\n",
    "\n",
    "# first column: p(no|X)\n",
    "# second column: p(yes|X)\n",
    "y_prob = model.predict_proba(X_test)\n",
    "\n",
    "# log_probs = []\n",
    "\n",
    "# for i in range(len(y_test)):\n",
    "#     # to pick out the estimated prob responding to the actual category for each test sample\n",
    "#     prob = y_prob[i][y_test]\n",
    "#     log_probs.append(np.log(prob))\n",
    "\n",
    "negative_log_likelihood = log_loss(y_test, y_prob) * len(y_test)\n",
    "\n",
    "print(f\"Negative log likelihood: {negative_log_likelihood}\")"
   ]
  },
  {
   "cell_type": "markdown",
   "id": "c12ce689-24d1-4b7a-8202-b26229f56625",
   "metadata": {},
   "source": [
    "**(b) Now use $\\hat{p}$ to create a hard classifier, also known as a decision rule. Specifically, consider the rule**\n",
    "$$\n",
    "\\hat{y}(x)=\\begin{cases}\n",
    "\\text{Yes}& \\text{if }\\hat{p}(\\text{Yes}|x)>0.5 \\\\[1em]\n",
    "\\text{No}& \\text{otherwise.}\n",
    "\\end{cases}\n",
    "$$\n",
    "**Using the test data, compute the false positive rate (FPR), true positive rate (TPR), false negative rate (FNR), and true negative rate (TNR) made by this decision rule.**"
   ]
  },
  {
   "cell_type": "code",
   "execution_count": 57,
   "id": "18817940-88ed-450c-92e8-a35c334d4a6a",
   "metadata": {},
   "outputs": [
    {
     "name": "stdout",
     "output_type": "stream",
     "text": [
      "Confusion Matrix:\n",
      "[[32  1]\n",
      " [ 5 89]]\n",
      "FPR    0.030303\n",
      "TPR    0.946809\n",
      "FNR    0.053191\n",
      "TNR    0.969697\n",
      "dtype: float64\n"
     ]
    }
   ],
   "source": [
    "from sklearn.metrics import confusion_matrix\n",
    "\n",
    "y_pred = np.where(y_prob[:, 1] > 0.5, 1, 0)\n",
    "\n",
    "cnf_matrix = confusion_matrix(y_test, y_pred)\n",
    "print(\"Confusion Matrix:\")\n",
    "print(cnf)\n",
    "\n",
    "FP = cnf_matrix[0,1] # it is \"negative\" (class 0) but we predict +1\n",
    "FN = cnf_matrix[1,0]\n",
    "TP = cnf_matrix[1,1]\n",
    "TN = cnf_matrix[0,0]\n",
    "\n",
    "FP = FP.astype(float)\n",
    "FN = FN.astype(float)\n",
    "TP = TP.astype(float)\n",
    "TN = TN.astype(float)\n",
    "\n",
    "metrics=pd.Series(dict(\n",
    "    # Fall out or false positive rate\n",
    "    FPR = FP/(FP+TN),\n",
    "    # Sensitivity, hit rate, recall, or true positive rate\n",
    "    TPR = TP/(TP+FN),\n",
    "    # False negative rate\n",
    "    FNR = FN/(TP+FN),\n",
    "     # Specificity or true negative rate\n",
    "    TNR = TN/(TN+FP)\n",
    "))\n",
    "print(metrics)"
   ]
  },
  {
   "cell_type": "markdown",
   "id": "8cccd5c4-1e02-4bec-b4f8-b8f4d4e3cb6e",
   "metadata": {},
   "source": [
    "**(c) We will now use $\\hat{p}$ to create a different classifier.**\n",
    "$$\n",
    "\\hat{y}(x)=\\begin{cases}\n",
    "\\text{Yes}& \\text{if }\\hat{p}(\\text{Yes}|x)>0.9 \\\\[1em]\n",
    "\\text{No}& \\text{otherwise.}\n",
    "\\end{cases}\n",
    "$$\n",
    "**Using the test data, compute the FPR, TPR, FNR, and TNR for this new decision rule.**"
   ]
  },
  {
   "cell_type": "code",
   "execution_count": 58,
   "id": "382c932a-b73f-4eb0-80ae-b82b6f9f416d",
   "metadata": {},
   "outputs": [
    {
     "name": "stdout",
     "output_type": "stream",
     "text": [
      "Confusion Matrix:\n",
      "[[32  1]\n",
      " [22 72]]\n",
      "FPR    0.030303\n",
      "TPR    0.765957\n",
      "FNR    0.234043\n",
      "TNR    0.969697\n",
      "dtype: float64\n"
     ]
    }
   ],
   "source": [
    "from sklearn.metrics import confusion_matrix\n",
    "\n",
    "y_pred_new = np.where(y_prob[:, 1] > 0.9, 1, 0)\n",
    "\n",
    "cnf_matrix_new = confusion_matrix(y_test, y_pred_new)\n",
    "print(\"Confusion Matrix:\")\n",
    "print(cnf_matrix_new)\n",
    "\n",
    "FP_new = cnf_matrix_new[0,1] # it is \"negative\" (class 0) but we predict +1\n",
    "FN_new = cnf_matrix_new[1,0]\n",
    "TP_new = cnf_matrix_new[1,1]\n",
    "TN_new = cnf_matrix_new[0,0]\n",
    "\n",
    "FP_new = FP_new.astype(float)\n",
    "FN_new = FN_new.astype(float)\n",
    "TP_new = TP_new.astype(float)\n",
    "TN_new = TN_new.astype(float)\n",
    "\n",
    "metrics_new=pd.Series(dict(\n",
    "    # Fall out or false positive rate\n",
    "    FPR = FP_new/(FP_new+TN_new),\n",
    "    # Sensitivity, hit rate, recall, or true positive rate\n",
    "    TPR = TP_new/(TP_new+FN_new),\n",
    "    # False negative rate\n",
    "    FNR = FN_new/(TP_new+FN_new),\n",
    "     # Specificity or true negative rate\n",
    "    TNR = TN_new/(TN_new+FP_new)\n",
    "))\n",
    "print(metrics_new)"
   ]
  },
  {
   "cell_type": "markdown",
   "id": "d00de98d-5fba-43d1-8577-ebcb907f8170",
   "metadata": {},
   "source": [
    "**(d) We will now use $\\hat{p}$ to create a family of different hard classifiers.**\n",
    "\n",
    "$$\\hat{y}_t(x) = \\begin{cases}\n",
    "\\text{Yes} & \\text{if }\\hat{p}(\\text{Yes}|x) > t \\\\\n",
    "\\text{No} & \\text{otherwise.}\n",
    "\\end{cases}$$\n",
    "\n",
    "**Using the test data, for each value of $t \\in \\{0.0, 1/100, 2/100, \\ldots, 99/100, 1.0\\}$, compute the FPR and TPR of the decision rule $\\hat{y}_t$. Plot your results as an ROC curve.**\n",
    "\n"
   ]
  },
  {
   "cell_type": "code",
   "execution_count": 62,
   "id": "aebdfcb1-5aca-4132-86ab-0c1dacd1162b",
   "metadata": {},
   "outputs": [
    {
     "data": {
      "image/png": "[encoded data removed]",
      "text/plain": [
       "<Figure size 800x600 with 1 Axes>"
      ]
     },
     "metadata": {},
     "output_type": "display_data"
    }
   ],
   "source": [
    "import matplotlib.pyplot as plt\n",
    "thresholds = np.linspace(0, 1, 101)\n",
    "\n",
    "fprs = []\n",
    "tprs = []\n",
    "\n",
    "for t in thresholds:\n",
    "    y_pred = np.where(y_prob[:, 1] > t, 1, 0)\n",
    "    \n",
    "    tn = sum((y_test == 0) & (y_pred == 0))\n",
    "    fp = sum((y_test == 0) & (y_pred == 1))\n",
    "    fn = sum((y_test == 1) & (y_pred == 0))\n",
    "    tp = sum((y_test == 1) & (y_pred == 1))\n",
    "    \n",
    "    fpr = fp / (fp + tn) if (fp + tn) > 0 else 0\n",
    "    tpr = tp / (tp + fn) if (tp + fn) > 0 else 0\n",
    "    \n",
    "    fprs.append(fpr)\n",
    "    tprs.append(tpr)\n",
    "\n",
    "plt.figure(figsize=(8, 6))\n",
    "plt.plot(fprs, tprs, 'b-', label='ROC curve')\n",
    "plt.plot([0, 1], [0, 1], 'k--', label='Random classifier')\n",
    "plt.xlabel('False Positive Rate (FPR)')\n",
    "plt.ylabel('True Positive Rate (TPR)')\n",
    "plt.title('ROC Curve')\n",
    "plt.legend()\n",
    "plt.grid(True)\n",
    "plt.show()"
   ]
  },
  {
   "cell_type": "markdown",
   "id": "6163794c-66f5-4fdc-ac06-a557309741bb",
   "metadata": {},
   "source": [
    "**(e) Use $\\hat{p}$, the test data, and `sklearn.metrics.roc_auc_score` to compute the area under your ROC curve. The first argument should be the true labels from the testing dataset. The second argument should be the probability that `Private` is `Yes`, as predicted by your model.**"
   ]
  },
  {
   "cell_type": "code",
   "execution_count": 64,
   "id": "08f9b7ec-8d04-44e5-a439-cf66f79bac0d",
   "metadata": {},
   "outputs": [
    {
     "name": "stdout",
     "output_type": "stream",
     "text": [
      "The AUC: 0.9903288201160542\n"
     ]
    }
   ],
   "source": [
    "from sklearn.metrics import roc_auc_score\n",
    "\n",
    "print(f\"The AUC: {roc_auc_score(y_test, y_prob[:, 1])}\")"
   ]
  }
 ],
 "metadata": {
  "kernelspec": {
   "display_name": "503kernel",
   "language": "python",
   "name": "503kernel"
  },
  "language_info": {
   "codemirror_mode": {
    "name": "ipython",
    "version": 3
   },
   "file_extension": ".py",
   "mimetype": "text/x-python",
   "name": "python",
   "nbconvert_exporter": "python",
   "pygments_lexer": "ipython3",
   "version": "3.9.19"
  }
 },
 "nbformat": 4,
 "nbformat_minor": 5
}
